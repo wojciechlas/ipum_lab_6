{
 "cells": [
  {
   "cell_type": "markdown",
   "id": "4e334946-88c6-4a53-b68b-bc6a7812f446",
   "metadata": {},
   "source": [
    "# Laboratory 9 instruction part 2 - MLflow\n",
    "\n",
    "In machine learning development, one of the most challenging aspects is maintaining reproducibility. This issue is particularly relevant to the experimental phase, when a lot of small, but influential code changes are constantly introduced.\n",
    "\n",
    "After extensive experimentation with different model architectures, hyperparameters, and preprocessing techniques, researchers often find themselves unable to recreate their best-performing models because critical configuration details were not properly recorded."
   ]
  },
  {
   "cell_type": "markdown",
   "id": "5635a486-ad7f-4d1e-b77a-60bb611ead52",
   "metadata": {},
   "source": [
    "## MLflow\n",
    "\n",
    "[MLflow is an open-source platform](https://mlflow.org/) that addresses this challenge by providing systematic experiment tracking throughout the machine learning lifecycle. It automatically captures configurations, metrics, and artifacts from each model training run, transforming ad-hoc model development into a structured, reproducible process. In this notebook, we will learn how to use MLflow to properly track experiments for both traditional machine learning and deep learning workflows."
   ]
  },
  {
   "cell_type": "markdown",
   "id": "50e1cc47-687c-43df-994b-8898e0cf0d35",
   "metadata": {},
   "source": [
    "### Learning objectives\n",
    "\n",
    "1. **Implement automated experiment tracking** using MLflow autologging capabilities with scikit-learn, enabling automatic capture of model parameters and metrics without writing additional tracking code.\n",
    "\n",
    "2. **Configure manual logging strategies** for PyTorch experiments, implementing custom tracking for metrics, parameters, and artifacts throughout the training process.\n",
    "\n",
    "3. **Analyze and compare experimental results** using MLflow tracking UI and programmatic APIs to identify optimal model configurations and understand performance patterns."
   ]
  },
  {
   "cell_type": "markdown",
   "id": "f9b60082-6c05-4281-bd04-b116f50fde0d",
   "metadata": {},
   "source": [
    "### Laboratory plan\n",
    "\n",
    "1. **MLflow tracking server** configuration and deployment for experiment management\n",
    "2. **Automatic logging mechanisms** for scikit-learn experiments\n",
    "3. **Manual logging implementation** for PyTorch deep learning workflows\n",
    "4. **Hyperparameter optimization exercise** - systematic hyperparameter exploration\n",
    "5. **Best practices** for experiment organization, versioning, and cross-team reproducibility"
   ]
  },
  {
   "cell_type": "markdown",
   "id": "f74a40d6-c3a1-4a0c-901d-37f623083a0f",
   "metadata": {
    "jp-MarkdownHeadingCollapsed": true
   },
   "source": [
    "## 1. MLflow Tracking server configuration"
   ]
  },
  {
   "cell_type": "markdown",
   "id": "52cf0383-726a-4078-96f4-a4079221ef34",
   "metadata": {},
   "source": [
    "[MLflow Tracking](https://mlflow.org/docs/latest/tracking/) is the main component of MLflow, responsible for capturing, storing, and presenting metrics, logs, and other tracking data. MLflow is based on a client-server architecture, where the central MLflow server can serve potentially whole teams of data scientists. You can also simply run it as a local server from the commandline, as we will now."
   ]
  },
  {
   "cell_type": "markdown",
   "id": "e8b54de5-897b-42fb-a8c5-88f68e829920",
   "metadata": {},
   "source": [
    "1. Create a directory for MLflow artifacts storage:\n",
    "```bash\n",
    "mkdir mlflow-artifacts\n",
    "```\n",
    "\n",
    "2. Start the MLflow tracking server:\n",
    "```bash\n",
    "mlflow server \\\n",
    "  --backend-store-uri sqlite:///mlflow.db \\\n",
    "  --default-artifact-root ./mlflow-artifacts \\\n",
    "  --host 0.0.0.0 \\\n",
    "  --port 5000\n",
    "```\n",
    "Important: Keep this terminal window open. The MLflow server will continue running and be accessible at http://localhost:5000"
   ]
  },
  {
   "cell_type": "markdown",
   "id": "cc86b089-02d6-4d15-aacf-3a7c59fe976c",
   "metadata": {},
   "source": [
    "To verify if the server runs properly, let's connect to git:"
   ]
  },
  {
   "cell_type": "code",
   "execution_count": 1,
   "id": "72ee89df-7d88-418b-b0ea-955314a8027a",
   "metadata": {
    "execution": {
     "iopub.execute_input": "2025-06-06T21:37:55.194204Z",
     "iopub.status.busy": "2025-06-06T21:37:55.193968Z",
     "iopub.status.idle": "2025-06-06T21:37:56.127429Z",
     "shell.execute_reply": "2025-06-06T21:37:56.127112Z",
     "shell.execute_reply.started": "2025-06-06T21:37:55.194189Z"
    }
   },
   "outputs": [
    {
     "name": "stdout",
     "output_type": "stream",
     "text": [
      "Connected to MLflow at: http://localhost:5000\n"
     ]
    }
   ],
   "source": [
    "import mlflow\n",
    "import mlflow.sklearn\n",
    "\n",
    "import warnings\n",
    "\n",
    "warnings.filterwarnings(\"ignore\")\n",
    "\n",
    "mlflow.set_tracking_uri(\"http://localhost:5000\")\n",
    "print(f\"Connected to MLflow at: {mlflow.get_tracking_uri()}\")"
   ]
  },
  {
   "cell_type": "markdown",
   "id": "404081bf-fd43-4b10-adf4-dd50cdfdfddb",
   "metadata": {},
   "source": [
    "Setup complete! You now have the MLflow server running as a separate process, and `mlflow` library in this Jupyter Notebook is connected to it. Just note that we had to use the proper host and port - if you want to connect to a remote server, modify the tracking URI appropriately."
   ]
  },
  {
   "cell_type": "markdown",
   "id": "c42e3dde-f410-4550-be8d-38b68a54c380",
   "metadata": {
    "jp-MarkdownHeadingCollapsed": true
   },
   "source": [
    "## 2. Automatic logging with scikit-learn"
   ]
  },
  {
   "cell_type": "markdown",
   "id": "c5eba059-863c-4d0c-b560-e3b988904a92",
   "metadata": {},
   "source": [
    "### 2.1 Dataset preparation\n",
    "\n",
    "In this section, we'll use the Ames Housing dataset to demonstrate MLflow's autologging capabilities with scikit-learn. Since we have already prepared the 2006-2008 data using DVC, we can use our preprocessed dataset here. As we have temporal data, the best way to evaluate our model is time (chronological) split, where the newest data is used for testing. We will assume that we have the data for years 2006 and 2007, and evaluate using data from 2008."
   ]
  },
  {
   "cell_type": "code",
   "execution_count": 2,
   "id": "4c9238db-6356-4efd-87c4-0c7fab9ba43b",
   "metadata": {
    "execution": {
     "iopub.execute_input": "2025-06-06T21:37:56.128059Z",
     "iopub.status.busy": "2025-06-06T21:37:56.127866Z",
     "iopub.status.idle": "2025-06-06T21:37:56.420304Z",
     "shell.execute_reply": "2025-06-06T21:37:56.419932Z",
     "shell.execute_reply.started": "2025-06-06T21:37:56.128048Z"
    }
   },
   "outputs": [],
   "source": [
    "import numpy as np\n",
    "import pandas as pd\n",
    "\n",
    "from feature_engine.encoding import RareLabelEncoder\n",
    "from sklearn.compose import ColumnTransformer\n",
    "from sklearn.impute import SimpleImputer\n",
    "from sklearn.model_selection import train_test_split, cross_val_score\n",
    "from sklearn.pipeline import Pipeline\n",
    "from sklearn.preprocessing import MinMaxScaler, OneHotEncoder"
   ]
  },
  {
   "cell_type": "code",
   "execution_count": 3,
   "id": "c0bd3c46-9319-41e2-8725-4d84a8e88d53",
   "metadata": {
    "execution": {
     "iopub.execute_input": "2025-06-06T21:38:45.166153Z",
     "iopub.status.busy": "2025-06-06T21:38:45.166011Z",
     "iopub.status.idle": "2025-06-06T21:38:45.176444Z",
     "shell.execute_reply": "2025-06-06T21:38:45.176034Z",
     "shell.execute_reply.started": "2025-06-06T21:38:45.166143Z"
    }
   },
   "outputs": [],
   "source": [
    "df = pd.read_parquet(\"data/ames_data_2006_2008.parquet\")\n",
    "\n",
    "df = df.sort_values(by=[\"YrSold\"])\n",
    "\n",
    "df_train = df[df[\"YrSold\"] < 2008]\n",
    "df_test = df[df[\"YrSold\"] == 2008]\n",
    "\n",
    "y_train = df_train.pop(\"SalePrice\")\n",
    "y_test = df_test.pop(\"SalePrice\")\n",
    "\n",
    "categorical_features = df_train.select_dtypes(include=\"object\").columns\n",
    "numerical_features = df_train.select_dtypes(exclude=\"object\").columns"
   ]
  },
  {
   "cell_type": "code",
   "execution_count": 4,
   "id": "5919ec29-187c-4e6d-85b9-19ea3ed31bf4",
   "metadata": {
    "execution": {
     "iopub.execute_input": "2025-06-06T21:38:46.277580Z",
     "iopub.status.busy": "2025-06-06T21:38:46.277439Z",
     "iopub.status.idle": "2025-06-06T21:38:46.339952Z",
     "shell.execute_reply": "2025-06-06T21:38:46.339637Z",
     "shell.execute_reply.started": "2025-06-06T21:38:46.277571Z"
    },
    "scrolled": true
   },
   "outputs": [],
   "source": [
    "median_imputer = SimpleImputer(strategy=\"median\")\n",
    "min_max_scaler = MinMaxScaler()\n",
    "rare_encoder = RareLabelEncoder(tol=0.01, n_categories=0)\n",
    "one_hot_encoder = OneHotEncoder(\n",
    "    drop=\"first\", sparse_output=False, handle_unknown=\"ignore\"\n",
    ")\n",
    "\n",
    "num_pipeline = Pipeline(\n",
    "    [(\"median_imputer\", median_imputer), (\"min_max_scaler\", min_max_scaler)]\n",
    ")\n",
    "\n",
    "cat_pipeline = Pipeline(\n",
    "    [(\"rare_encoder\", rare_encoder), (\"one_hot_encoder\", one_hot_encoder)]\n",
    ")\n",
    "\n",
    "column_transformer = ColumnTransformer(\n",
    "    [\n",
    "        (\"num_pipeline\", num_pipeline, numerical_features),\n",
    "        (\"cat_pipeline\", cat_pipeline, categorical_features),\n",
    "    ],\n",
    "    verbose_feature_names_out=False,\n",
    ")\n",
    "column_transformer.fit(df_train)\n",
    "\n",
    "X_train = column_transformer.transform(df_train)\n",
    "X_test = column_transformer.transform(df_test)"
   ]
  },
  {
   "cell_type": "code",
   "execution_count": 5,
   "id": "f32f3cf3-c57e-4747-a641-58cd5b3efc35",
   "metadata": {
    "execution": {
     "iopub.execute_input": "2025-06-06T21:38:55.877195Z",
     "iopub.status.busy": "2025-06-06T21:38:55.877004Z",
     "iopub.status.idle": "2025-06-06T21:38:55.879815Z",
     "shell.execute_reply": "2025-06-06T21:38:55.879444Z",
     "shell.execute_reply.started": "2025-06-06T21:38:55.877186Z"
    }
   },
   "outputs": [
    {
     "name": "stdout",
     "output_type": "stream",
     "text": [
      "Training samples: 1312\n",
      "Test samples: 621\n",
      "Number of features: 181\n"
     ]
    }
   ],
   "source": [
    "print(f\"Training samples: {X_train.shape[0]}\")\n",
    "print(f\"Test samples: {X_test.shape[0]}\")\n",
    "print(f\"Number of features: {X_train.shape[1]}\")"
   ]
  },
  {
   "cell_type": "markdown",
   "id": "30b0c8a1-8c4b-4e7c-bc94-a17b66c35496",
   "metadata": {},
   "source": [
    "### 2.2 Training with MLflow autologging"
   ]
  },
  {
   "cell_type": "markdown",
   "id": "39e15737-282d-4b0a-9930-6bfdbf506aa0",
   "metadata": {},
   "source": [
    "Autologging is a powerful built-in capability of MLflow, enabling fully automated and near-zero code integration of MLflow with many popular frameworks. In particular, it works really well with scikit-learn, thanks to its highly unified API. Let's try this out - we will enable autologging, and then train a buch of different models."
   ]
  },
  {
   "cell_type": "code",
   "execution_count": 6,
   "id": "07209ba8-d906-47ec-b95f-bc49ea002c74",
   "metadata": {
    "execution": {
     "iopub.execute_input": "2025-06-06T21:38:59.733373Z",
     "iopub.status.busy": "2025-06-06T21:38:59.733191Z",
     "iopub.status.idle": "2025-06-06T21:39:01.267771Z",
     "shell.execute_reply": "2025-06-06T21:39:01.267496Z",
     "shell.execute_reply.started": "2025-06-06T21:38:59.733362Z"
    }
   },
   "outputs": [
    {
     "name": "stderr",
     "output_type": "stream",
     "text": [
      "2025/06/07 10:06:53 WARNING mlflow.utils.autologging_utils: MLflow sklearn autologging is known to be compatible with 0.24.1 <= scikit-learn <= 1.6.1, but the installed version is 1.7.0. If you encounter errors during autologging, try upgrading / downgrading scikit-learn to a compatible version, or try upgrading MLflow.\n",
      "2025/06/07 10:06:56 INFO mlflow.tracking.fluent: Experiment with name 'ames-housing-autolog' does not exist. Creating a new experiment.\n"
     ]
    },
    {
     "data": {
      "text/plain": [
       "<Experiment: artifact_location='/home/wlas/ID/lab_6_files/mlflow-artifacts/1', creation_time=1749283616150, experiment_id='1', last_update_time=1749283616150, lifecycle_stage='active', name='ames-housing-autolog', tags={}>"
      ]
     },
     "execution_count": 6,
     "metadata": {},
     "output_type": "execute_result"
    }
   ],
   "source": [
    "mlflow.sklearn.autolog(\n",
    "    log_input_examples=True, log_model_signatures=True, log_models=False, silent=False\n",
    ")\n",
    "\n",
    "mlflow.set_experiment(\"ames-housing-autolog\")"
   ]
  },
  {
   "cell_type": "code",
   "execution_count": 7,
   "id": "fab8fe1e-28d4-473e-acfd-32ddefea106e",
   "metadata": {
    "execution": {
     "iopub.execute_input": "2025-06-06T21:40:56.850983Z",
     "iopub.status.busy": "2025-06-06T21:40:56.850798Z",
     "iopub.status.idle": "2025-06-06T21:40:56.853451Z",
     "shell.execute_reply": "2025-06-06T21:40:56.853196Z",
     "shell.execute_reply.started": "2025-06-06T21:40:56.850973Z"
    }
   },
   "outputs": [],
   "source": [
    "from sklearn.ensemble import RandomForestRegressor, GradientBoostingRegressor\n",
    "from sklearn.linear_model import Ridge\n",
    "from sklearn.tree import DecisionTreeRegressor\n",
    "from sklearn.neighbors import KNeighborsRegressor\n",
    "\n",
    "\n",
    "models = [\n",
    "    (\"Ridge Regression\", Ridge()),\n",
    "    (\"Decision Tree\", DecisionTreeRegressor(max_depth=10, random_state=42)),\n",
    "    (\"K-Nearest Neighbors\", KNeighborsRegressor(n_neighbors=10)),\n",
    "    (\"Random Forest\", RandomForestRegressor(n_estimators=100, random_state=42)),\n",
    "    (\"Gradient Boosting\", GradientBoostingRegressor(n_estimators=100, random_state=42)),\n",
    "]"
   ]
  },
  {
   "cell_type": "code",
   "execution_count": 8,
   "id": "c80ebf7f-af99-461a-b35f-e2d7e6676645",
   "metadata": {
    "execution": {
     "iopub.execute_input": "2025-06-06T21:45:09.278011Z",
     "iopub.status.busy": "2025-06-06T21:45:09.277677Z",
     "iopub.status.idle": "2025-06-06T21:45:09.281976Z",
     "shell.execute_reply": "2025-06-06T21:45:09.281592Z",
     "shell.execute_reply.started": "2025-06-06T21:45:09.277991Z"
    }
   },
   "outputs": [],
   "source": [
    "from sklearn.metrics import root_mean_squared_error, mean_absolute_error, r2_score\n",
    "\n",
    "\n",
    "def fit_sklearn_models_with_cv(models, X_train, X_test, y_train, y_test):\n",
    "    results = {}\n",
    "\n",
    "    for model_name, model in models:\n",
    "        # start MLflow run - a unit grouping logs from different model runs\n",
    "        # everything within this context manager will get logged as a run\n",
    "        with mlflow.start_run(run_name=model_name):\n",
    "            model.fit(X_train, y_train)\n",
    "\n",
    "            y_pred = model.predict(X_test)\n",
    "\n",
    "            rmse = root_mean_squared_error(y_test, y_pred)\n",
    "            mae = mean_absolute_error(y_test, y_pred)\n",
    "            r2 = r2_score(y_test, y_pred)\n",
    "\n",
    "            cv_scores = cross_val_score(model, X_train, y_train, cv=5, scoring=\"r2\")\n",
    "            cv_mean = cv_scores.mean()\n",
    "            cv_std = cv_scores.std()\n",
    "            \n",
    "            # log additional custom metrics, in addition to autologging\n",
    "            mlflow.log_metric(\"cv_r2_mean\", cv_mean)\n",
    "            mlflow.log_metric(\"cv_r2_std\", cv_std)\n",
    "\n",
    "            results[model_name] = {\n",
    "                \"rmse\": rmse,\n",
    "                \"mae\": mae,\n",
    "                \"r2\": r2,\n",
    "                \"cv_r2_mean\": cv_mean,\n",
    "            }\n",
    "\n",
    "            print(f\"\\n{model_name}:\")\n",
    "            print(f\"  RMSE: {rmse:.2f}\")\n",
    "            print(f\"  MAE: {mae:.2f}\")\n",
    "            print(f\"  R^2: {r2:.3f}\")\n",
    "            print(f\"  CV R^2 (mean ± std): {cv_mean:.3f} ± {cv_std:.3f}\")\n"
   ]
  },
  {
   "cell_type": "code",
   "execution_count": 9,
   "id": "808bb766-f598-4cbd-a46f-3bad82d84f4d",
   "metadata": {
    "execution": {
     "iopub.execute_input": "2025-06-06T21:41:56.396591Z",
     "iopub.status.busy": "2025-06-06T21:41:56.396422Z",
     "iopub.status.idle": "2025-06-06T21:42:08.549780Z",
     "shell.execute_reply": "2025-06-06T21:42:08.549488Z",
     "shell.execute_reply.started": "2025-06-06T21:41:56.396582Z"
    },
    "scrolled": true
   },
   "outputs": [
    {
     "name": "stderr",
     "output_type": "stream",
     "text": [
      "2025/06/07 10:08:16 WARNING mlflow.sklearn: Failed to log training dataset information to MLflow Tracking. Reason: 'Series' object has no attribute 'flatten'\n",
      "2025/06/07 10:08:16 WARNING mlflow.sklearn: Failed to log training dataset information to MLflow Tracking. Reason: 'Series' object has no attribute 'flatten'\n",
      "2025/06/07 10:08:16 WARNING mlflow.sklearn: Failed to log training dataset information to MLflow Tracking. Reason: 'Series' object has no attribute 'flatten'\n",
      "2025/06/07 10:08:16 WARNING mlflow.sklearn: Failed to log training dataset information to MLflow Tracking. Reason: 'Series' object has no attribute 'flatten'\n",
      "2025/06/07 10:08:17 WARNING mlflow.sklearn: Failed to log training dataset information to MLflow Tracking. Reason: 'Series' object has no attribute 'flatten'\n",
      "2025/06/07 10:08:17 WARNING mlflow.sklearn: Failed to log training dataset information to MLflow Tracking. Reason: 'Series' object has no attribute 'flatten'\n",
      "2025/06/07 10:08:17 WARNING mlflow.sklearn: Failed to log training dataset information to MLflow Tracking. Reason: 'Series' object has no attribute 'flatten'\n",
      "2025/06/07 10:08:17 WARNING mlflow.sklearn: Failed to log training dataset information to MLflow Tracking. Reason: 'Series' object has no attribute 'flatten'\n"
     ]
    },
    {
     "name": "stdout",
     "output_type": "stream",
     "text": [
      "\n",
      "Ridge Regression:\n",
      "  RMSE: 23450.39\n",
      "  MAE: 16430.79\n",
      "  R^2: 0.904\n",
      "  CV R^2 (mean ± std): 0.880 ± 0.037\n",
      "🏃 View run Ridge Regression at: http://localhost:5000/#/experiments/1/runs/4eddcf1d81af449b96d5cbcda6ea664b\n",
      "🧪 View experiment at: http://localhost:5000/#/experiments/1\n"
     ]
    },
    {
     "name": "stderr",
     "output_type": "stream",
     "text": [
      "2025/06/07 10:08:17 WARNING mlflow.sklearn: Failed to log training dataset information to MLflow Tracking. Reason: 'Series' object has no attribute 'flatten'\n",
      "2025/06/07 10:08:17 WARNING mlflow.sklearn: Failed to log training dataset information to MLflow Tracking. Reason: 'Series' object has no attribute 'flatten'\n",
      "2025/06/07 10:08:17 WARNING mlflow.sklearn: Failed to log training dataset information to MLflow Tracking. Reason: 'Series' object has no attribute 'flatten'\n",
      "2025/06/07 10:08:17 WARNING mlflow.sklearn: Failed to log training dataset information to MLflow Tracking. Reason: 'Series' object has no attribute 'flatten'\n",
      "2025/06/07 10:08:17 WARNING mlflow.sklearn: Failed to log training dataset information to MLflow Tracking. Reason: 'Series' object has no attribute 'flatten'\n",
      "2025/06/07 10:08:17 WARNING mlflow.sklearn: Failed to log training dataset information to MLflow Tracking. Reason: 'Series' object has no attribute 'flatten'\n"
     ]
    },
    {
     "name": "stdout",
     "output_type": "stream",
     "text": [
      "\n",
      "Decision Tree:\n",
      "  RMSE: 36860.51\n",
      "  MAE: 23270.66\n",
      "  R^2: 0.762\n",
      "  CV R^2 (mean ± std): 0.726 ± 0.080\n",
      "🏃 View run Decision Tree at: http://localhost:5000/#/experiments/1/runs/7a299b4ec0dc4d098a01e4c59820dace\n",
      "🧪 View experiment at: http://localhost:5000/#/experiments/1\n"
     ]
    },
    {
     "name": "stderr",
     "output_type": "stream",
     "text": [
      "2025/06/07 10:08:18 WARNING mlflow.sklearn: Failed to log training dataset information to MLflow Tracking. Reason: 'Series' object has no attribute 'flatten'\n",
      "2025/06/07 10:08:18 WARNING mlflow.sklearn: Failed to log training dataset information to MLflow Tracking. Reason: 'Series' object has no attribute 'flatten'\n",
      "2025/06/07 10:08:18 WARNING mlflow.sklearn: Failed to log training dataset information to MLflow Tracking. Reason: 'Series' object has no attribute 'flatten'\n",
      "2025/06/07 10:08:18 WARNING mlflow.sklearn: Failed to log training dataset information to MLflow Tracking. Reason: 'Series' object has no attribute 'flatten'\n",
      "2025/06/07 10:08:18 WARNING mlflow.sklearn: Failed to log training dataset information to MLflow Tracking. Reason: 'Series' object has no attribute 'flatten'\n"
     ]
    },
    {
     "name": "stdout",
     "output_type": "stream",
     "text": [
      "\n",
      "K-Nearest Neighbors:\n",
      "  RMSE: 38325.06\n",
      "  MAE: 26034.07\n",
      "  R^2: 0.743\n",
      "  CV R^2 (mean ± std): 0.656 ± 0.050\n",
      "🏃 View run K-Nearest Neighbors at: http://localhost:5000/#/experiments/1/runs/01702a8657f74d22b79027c1c9d45437\n",
      "🧪 View experiment at: http://localhost:5000/#/experiments/1\n"
     ]
    },
    {
     "name": "stderr",
     "output_type": "stream",
     "text": [
      "2025/06/07 10:08:20 WARNING mlflow.sklearn: Failed to log training dataset information to MLflow Tracking. Reason: 'Series' object has no attribute 'flatten'\n",
      "2025/06/07 10:08:21 WARNING mlflow.sklearn: Failed to log training dataset information to MLflow Tracking. Reason: 'Series' object has no attribute 'flatten'\n",
      "2025/06/07 10:08:22 WARNING mlflow.sklearn: Failed to log training dataset information to MLflow Tracking. Reason: 'Series' object has no attribute 'flatten'\n",
      "2025/06/07 10:08:24 WARNING mlflow.sklearn: Failed to log training dataset information to MLflow Tracking. Reason: 'Series' object has no attribute 'flatten'\n",
      "2025/06/07 10:08:25 WARNING mlflow.sklearn: Failed to log training dataset information to MLflow Tracking. Reason: 'Series' object has no attribute 'flatten'\n",
      "2025/06/07 10:08:27 WARNING mlflow.sklearn: Failed to log training dataset information to MLflow Tracking. Reason: 'Series' object has no attribute 'flatten'\n"
     ]
    },
    {
     "name": "stdout",
     "output_type": "stream",
     "text": [
      "\n",
      "Random Forest:\n",
      "  RMSE: 25896.23\n",
      "  MAE: 15509.71\n",
      "  R^2: 0.883\n",
      "  CV R^2 (mean ± std): 0.870 ± 0.043\n",
      "🏃 View run Random Forest at: http://localhost:5000/#/experiments/1/runs/b723b8e7c5514e8bb3ff87d85edc803d\n",
      "🧪 View experiment at: http://localhost:5000/#/experiments/1\n"
     ]
    },
    {
     "name": "stderr",
     "output_type": "stream",
     "text": [
      "2025/06/07 10:08:30 WARNING mlflow.sklearn: Failed to log training dataset information to MLflow Tracking. Reason: 'Series' object has no attribute 'flatten'\n",
      "2025/06/07 10:08:31 WARNING mlflow.sklearn: Failed to log training dataset information to MLflow Tracking. Reason: 'Series' object has no attribute 'flatten'\n",
      "2025/06/07 10:08:31 WARNING mlflow.sklearn: Failed to log training dataset information to MLflow Tracking. Reason: 'Series' object has no attribute 'flatten'\n",
      "2025/06/07 10:08:32 WARNING mlflow.sklearn: Failed to log training dataset information to MLflow Tracking. Reason: 'Series' object has no attribute 'flatten'\n",
      "2025/06/07 10:08:32 WARNING mlflow.sklearn: Failed to log training dataset information to MLflow Tracking. Reason: 'Series' object has no attribute 'flatten'\n"
     ]
    },
    {
     "name": "stdout",
     "output_type": "stream",
     "text": [
      "\n",
      "Gradient Boosting:\n",
      "  RMSE: 21572.13\n",
      "  MAE: 13809.38\n",
      "  R^2: 0.919\n",
      "  CV R^2 (mean ± std): 0.898 ± 0.031\n",
      "🏃 View run Gradient Boosting at: http://localhost:5000/#/experiments/1/runs/df75821df70e47ab90c2b83c0ff559ce\n",
      "🧪 View experiment at: http://localhost:5000/#/experiments/1\n"
     ]
    }
   ],
   "source": [
    "fit_sklearn_models_with_cv(models, X_train, X_test, y_train, y_test)"
   ]
  },
  {
   "cell_type": "markdown",
   "id": "cbdc3a2c-f5e8-4f96-935a-8975814b4306",
   "metadata": {},
   "source": [
    "Open the MLflow dashboard at http://localhost:5000/ and go to the Experiments tab. On the left, you have the experiment name, and when you select it, the list of all experiments will show up. Click through the interface and familiarize yourself with the most important elements:\n",
    "\n",
    "1. What columns can be selected\n",
    "2. Pick a particular run and check what values are logged automatically\n",
    "3. Select columns to compare a given metric between runs, e.g. MAE\n",
    "4. Sort algorithms by the selected metric to pick the best one"
   ]
  },
  {
   "cell_type": "markdown",
   "id": "93ffef97-b1be-4506-8720-c90e027c8172",
   "metadata": {},
   "source": [
    "### Exercise 1"
   ]
  },
  {
   "cell_type": "markdown",
   "id": "3e97c74e-7cb4-4bfe-9f32-7421dc6c03e7",
   "metadata": {},
   "source": [
    "We have trained 5 different models. The results of all of them can now be compared in MLflow. Since we obtained quite satisfactory results, our imaginary client would like to be sure that we do our best and wants us to compare many more combinations.\n",
    "\n",
    "Your task is to run 5 more experiments with different parameters and models from scikit-learn. You can use any [supervised learning methods from scikit-learn](https://scikit-learn.org/stable/supervised_learning.html). Find some other models or parameters to tune our current models with and run the experiments again. Use the function `fit_sklearn_models_with_cv()` created above, or you can write your own if you want.\n",
    "\n",
    "Did you manage to beat the previous approaches?"
   ]
  },
  {
   "cell_type": "code",
   "execution_count": 11,
   "id": "ef6261dd-3a22-4513-b524-2f40843919f4",
   "metadata": {},
   "outputs": [
    {
     "name": "stderr",
     "output_type": "stream",
     "text": [
      "2025/06/07 10:19:38 WARNING mlflow.sklearn: Failed to log training dataset information to MLflow Tracking. Reason: 'Series' object has no attribute 'flatten'\n",
      "2025/06/07 10:19:38 WARNING mlflow.sklearn: Failed to log training dataset information to MLflow Tracking. Reason: 'Series' object has no attribute 'flatten'\n",
      "2025/06/07 10:19:38 WARNING mlflow.sklearn: Failed to log training dataset information to MLflow Tracking. Reason: 'Series' object has no attribute 'flatten'\n",
      "2025/06/07 10:19:38 WARNING mlflow.sklearn: Failed to log training dataset information to MLflow Tracking. Reason: 'Series' object has no attribute 'flatten'\n",
      "2025/06/07 10:19:38 WARNING mlflow.sklearn: Failed to log training dataset information to MLflow Tracking. Reason: 'Series' object has no attribute 'flatten'\n",
      "2025/06/07 10:19:39 WARNING mlflow.sklearn: Failed to log training dataset information to MLflow Tracking. Reason: 'Series' object has no attribute 'flatten'\n",
      "2025/06/07 10:19:39 WARNING mlflow.sklearn: Failed to log training dataset information to MLflow Tracking. Reason: 'Series' object has no attribute 'flatten'\n",
      "2025/06/07 10:19:39 WARNING mlflow.sklearn: Failed to log training dataset information to MLflow Tracking. Reason: 'Series' object has no attribute 'flatten'\n"
     ]
    },
    {
     "name": "stdout",
     "output_type": "stream",
     "text": [
      "\n",
      "Lasso:\n",
      "  RMSE: 24077.53\n",
      "  MAE: 16759.25\n",
      "  R^2: 0.899\n",
      "  CV R^2 (mean ± std): 0.857 ± 0.054\n",
      "🏃 View run Lasso at: http://localhost:5000/#/experiments/1/runs/80218fe5dabf4e36a0781851f165b436\n",
      "🧪 View experiment at: http://localhost:5000/#/experiments/1\n"
     ]
    },
    {
     "name": "stderr",
     "output_type": "stream",
     "text": [
      "2025/06/07 10:19:39 WARNING mlflow.sklearn: Failed to log training dataset information to MLflow Tracking. Reason: 'Series' object has no attribute 'flatten'\n",
      "2025/06/07 10:19:39 WARNING mlflow.sklearn: Failed to log training dataset information to MLflow Tracking. Reason: 'Series' object has no attribute 'flatten'\n",
      "2025/06/07 10:19:39 WARNING mlflow.sklearn: Failed to log training dataset information to MLflow Tracking. Reason: 'Series' object has no attribute 'flatten'\n",
      "2025/06/07 10:19:39 WARNING mlflow.sklearn: Failed to log training dataset information to MLflow Tracking. Reason: 'Series' object has no attribute 'flatten'\n",
      "2025/06/07 10:19:39 WARNING mlflow.sklearn: Failed to log training dataset information to MLflow Tracking. Reason: 'Series' object has no attribute 'flatten'\n",
      "2025/06/07 10:19:39 WARNING mlflow.sklearn: Failed to log training dataset information to MLflow Tracking. Reason: 'Series' object has no attribute 'flatten'\n"
     ]
    },
    {
     "name": "stdout",
     "output_type": "stream",
     "text": [
      "\n",
      "Elastic-Net:\n",
      "  RMSE: 43029.14\n",
      "  MAE: 29452.37\n",
      "  R^2: 0.676\n",
      "  CV R^2 (mean ± std): 0.597 ± 0.054\n",
      "🏃 View run Elastic-Net at: http://localhost:5000/#/experiments/1/runs/3eba5e4c0334436799708557f96faf04\n",
      "🧪 View experiment at: http://localhost:5000/#/experiments/1\n"
     ]
    },
    {
     "name": "stderr",
     "output_type": "stream",
     "text": [
      "2025/06/07 10:19:39 WARNING mlflow.sklearn: Failed to log training dataset information to MLflow Tracking. Reason: 'Series' object has no attribute 'flatten'\n",
      "2025/06/07 10:19:39 WARNING mlflow.sklearn: Failed to log training dataset information to MLflow Tracking. Reason: 'Series' object has no attribute 'flatten'\n",
      "2025/06/07 10:19:39 WARNING mlflow.sklearn: Failed to log training dataset information to MLflow Tracking. Reason: 'Series' object has no attribute 'flatten'\n",
      "2025/06/07 10:19:40 WARNING mlflow.sklearn: Failed to log training dataset information to MLflow Tracking. Reason: 'Series' object has no attribute 'flatten'\n",
      "2025/06/07 10:19:40 WARNING mlflow.sklearn: Failed to log training dataset information to MLflow Tracking. Reason: 'Series' object has no attribute 'flatten'\n"
     ]
    },
    {
     "name": "stdout",
     "output_type": "stream",
     "text": [
      "\n",
      "K-Nearest Neighbors:\n",
      "  RMSE: 39068.26\n",
      "  MAE: 26219.42\n",
      "  R^2: 0.733\n",
      "  CV R^2 (mean ± std): 0.661 ± 0.069\n",
      "🏃 View run K-Nearest Neighbors at: http://localhost:5000/#/experiments/1/runs/229e303810a141e68f583f83cd772ae6\n",
      "🧪 View experiment at: http://localhost:5000/#/experiments/1\n"
     ]
    },
    {
     "name": "stderr",
     "output_type": "stream",
     "text": [
      "2025/06/07 10:19:43 WARNING mlflow.sklearn: Failed to log training dataset information to MLflow Tracking. Reason: 'Series' object has no attribute 'flatten'\n",
      "2025/06/07 10:19:46 WARNING mlflow.sklearn: Failed to log training dataset information to MLflow Tracking. Reason: 'Series' object has no attribute 'flatten'\n",
      "2025/06/07 10:19:48 WARNING mlflow.sklearn: Failed to log training dataset information to MLflow Tracking. Reason: 'Series' object has no attribute 'flatten'\n",
      "2025/06/07 10:19:51 WARNING mlflow.sklearn: Failed to log training dataset information to MLflow Tracking. Reason: 'Series' object has no attribute 'flatten'\n",
      "2025/06/07 10:19:53 WARNING mlflow.sklearn: Failed to log training dataset information to MLflow Tracking. Reason: 'Series' object has no attribute 'flatten'\n",
      "2025/06/07 10:19:56 WARNING mlflow.sklearn: Failed to log training dataset information to MLflow Tracking. Reason: 'Series' object has no attribute 'flatten'\n"
     ]
    },
    {
     "name": "stdout",
     "output_type": "stream",
     "text": [
      "\n",
      "Random Forest:\n",
      "  RMSE: 25601.24\n",
      "  MAE: 15457.13\n",
      "  R^2: 0.885\n",
      "  CV R^2 (mean ± std): 0.871 ± 0.041\n",
      "🏃 View run Random Forest at: http://localhost:5000/#/experiments/1/runs/b45255cc1e7e4b2ea463bd6ed3fd1c3f\n",
      "🧪 View experiment at: http://localhost:5000/#/experiments/1\n"
     ]
    },
    {
     "name": "stderr",
     "output_type": "stream",
     "text": [
      "2025/06/07 10:19:57 WARNING mlflow.sklearn: Failed to log training dataset information to MLflow Tracking. Reason: 'Series' object has no attribute 'flatten'\n",
      "2025/06/07 10:19:57 WARNING mlflow.sklearn: Failed to log training dataset information to MLflow Tracking. Reason: 'Series' object has no attribute 'flatten'\n",
      "2025/06/07 10:19:57 WARNING mlflow.sklearn: Failed to log training dataset information to MLflow Tracking. Reason: 'Series' object has no attribute 'flatten'\n",
      "2025/06/07 10:19:57 WARNING mlflow.sklearn: Failed to log training dataset information to MLflow Tracking. Reason: 'Series' object has no attribute 'flatten'\n",
      "2025/06/07 10:19:58 WARNING mlflow.sklearn: Failed to log training dataset information to MLflow Tracking. Reason: 'Series' object has no attribute 'flatten'\n"
     ]
    },
    {
     "name": "stdout",
     "output_type": "stream",
     "text": [
      "\n",
      "Gradient Boosting:\n",
      "  RMSE: 22660.14\n",
      "  MAE: 14791.79\n",
      "  R^2: 0.910\n",
      "  CV R^2 (mean ± std): 0.885 ± 0.037\n",
      "🏃 View run Gradient Boosting at: http://localhost:5000/#/experiments/1/runs/f2e95640f8164ab2be8635b3ac7c98a2\n",
      "🧪 View experiment at: http://localhost:5000/#/experiments/1\n"
     ]
    }
   ],
   "source": [
    "from sklearn.linear_model import Lasso, ElasticNet\n",
    "\n",
    "models_2 = [\n",
    "    (\"Lasso\", Lasso(alpha=0.1)),\n",
    "    (\"Elastic-Net\", ElasticNet(alpha=1.0, l1_ratio=0.5)),\n",
    "    (\"K-Nearest Neighbors\", KNeighborsRegressor(n_neighbors=5)),\n",
    "    (\"Random Forest\", RandomForestRegressor(n_estimators=200, random_state=42)),\n",
    "    (\"Gradient Boosting\", GradientBoostingRegressor(n_estimators=50, random_state=42)),\n",
    "]\n",
    "\n",
    "fit_sklearn_models_with_cv(models_2, X_train, X_test, y_train, y_test)"
   ]
  },
  {
   "cell_type": "markdown",
   "id": "bb882787-8a22-45a5-93ac-c232f467303a",
   "metadata": {},
   "source": [
    "## 3. Manual logging with PyTorch"
   ]
  },
  {
   "cell_type": "markdown",
   "id": "f5b51341-4f9b-437e-b17c-d882759cffea",
   "metadata": {},
   "source": [
    "In this section, we'll implement manual logging for PyTorch models. While scikit-learn has autologging, PyTorch requires manual tracking - giving us full control over what and when to log. MLflow supports autologging for [PyTorch Lightning](https://lightning.ai/docs/pytorch/stable/), but many people prefer or often need low-level control of pure PyTorch. Thus, we will focus on this approach, which also will teach us more about powerful MLflow capabilities.\n",
    "\n",
    "Note that we need to turn off scikit-learn autologging! Since we are using a Jupyter Notebook, MLflow uses the previously configured autologging unless explicitly turned off."
   ]
  },
  {
   "cell_type": "code",
   "execution_count": 12,
   "id": "b08b265d-b3b0-47d8-a207-7e0f6611de64",
   "metadata": {
    "execution": {
     "iopub.execute_input": "2025-06-06T21:53:12.117920Z",
     "iopub.status.busy": "2025-06-06T21:53:12.117730Z",
     "iopub.status.idle": "2025-06-06T21:53:12.151246Z",
     "shell.execute_reply": "2025-06-06T21:53:12.150913Z",
     "shell.execute_reply.started": "2025-06-06T21:53:12.117909Z"
    }
   },
   "outputs": [
    {
     "name": "stderr",
     "output_type": "stream",
     "text": [
      "2025/06/07 10:28:58 INFO mlflow.tracking.fluent: Experiment with name 'pytorch-housing-manual' does not exist. Creating a new experiment.\n"
     ]
    },
    {
     "data": {
      "text/plain": [
       "<Experiment: artifact_location='/home/wlas/ID/lab_6_files/mlflow-artifacts/2', creation_time=1749284938377, experiment_id='2', last_update_time=1749284938377, lifecycle_stage='active', name='pytorch-housing-manual', tags={}>"
      ]
     },
     "execution_count": 12,
     "metadata": {},
     "output_type": "execute_result"
    }
   ],
   "source": [
    "import numpy as np\n",
    "import torch\n",
    "import torch.nn as nn\n",
    "import torch.optim as optim\n",
    "from torch.utils.data import DataLoader, TensorDataset\n",
    "from sklearn.model_selection import KFold\n",
    "\n",
    "# disable sklearn autologging!\n",
    "mlflow.sklearn.autolog(disable=True)\n",
    "\n",
    "mlflow.set_experiment(\"pytorch-housing-manual\")"
   ]
  },
  {
   "cell_type": "markdown",
   "id": "10b43a24-f469-4520-9634-8e77535d1f79",
   "metadata": {},
   "source": [
    "### 3.1 Targets transformation"
   ]
  },
  {
   "cell_type": "markdown",
   "id": "11a6a152-dc89-4c3e-92ab-d988324c5fc3",
   "metadata": {},
   "source": [
    "Before training the neural network, we will transform the training target, in order to stabilize the training. To see why, let's plot the house prices:"
   ]
  },
  {
   "cell_type": "code",
   "execution_count": 13,
   "id": "d891bdee-750b-4c89-8153-4ea77dc1e720",
   "metadata": {
    "execution": {
     "iopub.execute_input": "2025-06-06T22:26:29.163558Z",
     "iopub.status.busy": "2025-06-06T22:26:29.163415Z",
     "iopub.status.idle": "2025-06-06T22:26:29.717211Z",
     "shell.execute_reply": "2025-06-06T22:26:29.716889Z",
     "shell.execute_reply.started": "2025-06-06T22:26:29.163547Z"
    }
   },
   "outputs": [
    {
     "data": {
      "text/plain": [
       "<Axes: ylabel='Frequency'>"
      ]
     },
     "execution_count": 13,
     "metadata": {},
     "output_type": "execute_result"
    },
    {
     "data": {
      "image/png": "[encoded data removed]",
      "text/plain": [
       "<Figure size 640x480 with 1 Axes>"
      ]
     },
     "metadata": {},
     "output_type": "display_data"
    }
   ],
   "source": [
    "y_train.plot.hist()"
   ]
  },
  {
   "cell_type": "markdown",
   "id": "5fb5e9b2-b596-4d43-9a70-a9ebd9228bcf",
   "metadata": {},
   "source": [
    "Training on such targets is possible, but very large target values easily risk overflow, particularly when a loss function like mean squared error is used. We will use the log-transform to transform this distribution, as it's near-exponential, so it should bring it closer to normal, and also greatly reduce the values range.\n",
    "\n",
    "Of course, we will need to transform the network predictions back again to evaluate them!"
   ]
  },
  {
   "cell_type": "code",
   "execution_count": 14,
   "id": "a2040911-8f01-4c83-9668-1b2340f03a21",
   "metadata": {
    "execution": {
     "iopub.execute_input": "2025-06-06T22:30:07.596248Z",
     "iopub.status.busy": "2025-06-06T22:30:07.595854Z",
     "iopub.status.idle": "2025-06-06T22:30:07.653569Z",
     "shell.execute_reply": "2025-06-06T22:30:07.653318Z",
     "shell.execute_reply.started": "2025-06-06T22:30:07.596228Z"
    }
   },
   "outputs": [
    {
     "data": {
      "text/plain": [
       "<Axes: ylabel='Frequency'>"
      ]
     },
     "execution_count": 14,
     "metadata": {},
     "output_type": "execute_result"
    },
    {
     "data": {
      "image/png": "[encoded data removed]",
      "text/plain": [
       "<Figure size 640x480 with 1 Axes>"
      ]
     },
     "metadata": {},
     "output_type": "display_data"
    }
   ],
   "source": [
    "y_train_log = np.log1p(y_train)\n",
    "\n",
    "pd.Series(y_train_log).plot.hist()"
   ]
  },
  {
   "cell_type": "markdown",
   "id": "9fe63d74-b06f-4270-adad-d216bfbfa0dd",
   "metadata": {},
   "source": [
    "### 3.2 Define and train the model"
   ]
  },
  {
   "cell_type": "markdown",
   "id": "6ed10560-7d86-44a2-9849-56abe78a8c04",
   "metadata": {},
   "source": [
    "Since we have tabular data, we will use a simple 2-layer multilayer perceptron (MLP)."
   ]
  },
  {
   "cell_type": "code",
   "execution_count": 15,
   "id": "9a115323-d4b5-4137-977d-8cc0579a5ef0",
   "metadata": {
    "execution": {
     "iopub.execute_input": "2025-06-06T22:36:34.505302Z",
     "iopub.status.busy": "2025-06-06T22:36:34.505068Z",
     "iopub.status.idle": "2025-06-06T22:36:34.508008Z",
     "shell.execute_reply": "2025-06-06T22:36:34.507755Z",
     "shell.execute_reply.started": "2025-06-06T22:36:34.505284Z"
    }
   },
   "outputs": [],
   "source": [
    "class HousePriceNet(nn.Module):\n",
    "    def __init__(self, input_dim, hidden_dim=128, dropout_rate=0.2):\n",
    "        super(HousePriceNet, self).__init__()\n",
    "        self.fc1 = nn.Linear(input_dim, hidden_dim)\n",
    "        self.relu = nn.ReLU()\n",
    "        self.dropout = nn.Dropout(dropout_rate)\n",
    "        self.fc2 = nn.Linear(hidden_dim, 1)\n",
    "\n",
    "    def forward(self, x):\n",
    "        x = self.fc1(x)\n",
    "        x = self.relu(x)\n",
    "        x = self.dropout(x)\n",
    "        x = self.fc2(x)\n",
    "        return x\n"
   ]
  },
  {
   "cell_type": "markdown",
   "id": "08cdb980-c4b6-462e-8fe2-27023ee97083",
   "metadata": {},
   "source": [
    "For training, we will check both the 5-fold CV performance, and the traditional train-test split. Cross-validation will give us an additional, robust performance estimation, as well as standard deviation, which is useful for comparing performances of different models. After all, if the difference between models would be within one standard deviation, it wouldn't really be meaningful."
   ]
  },
  {
   "cell_type": "code",
   "execution_count": 17,
   "id": "76d6531a-3019-4f7e-94e5-238ee39af849",
   "metadata": {
    "execution": {
     "iopub.execute_input": "2025-06-06T22:56:46.553437Z",
     "iopub.status.busy": "2025-06-06T22:56:46.553260Z",
     "iopub.status.idle": "2025-06-06T22:56:46.563728Z",
     "shell.execute_reply": "2025-06-06T22:56:46.563425Z",
     "shell.execute_reply.started": "2025-06-06T22:56:46.553426Z"
    }
   },
   "outputs": [],
   "source": [
    "import torch.nn as nn\n",
    "\n",
    "\n",
    "class PyTorchTrainer:\n",
    "    def __init__(\n",
    "        self, model_class: type[nn.Module], config: dict\n",
    "    ):\n",
    "        self.model_class = model_class\n",
    "        self.config = config\n",
    "\n",
    "    def create_model(self, input_dim: int) -> nn.Module:\n",
    "        return self.model_class(\n",
    "            input_dim=input_dim,\n",
    "            hidden_dim=self.config[\"hidden_units\"],\n",
    "            dropout_rate=self.config[\"dropout\"],\n",
    "        )\n",
    "\n",
    "    def create_data_loader(\n",
    "        self, X: torch.Tensor, y: torch.Tensor, shuffle: bool = True\n",
    "    ) -> DataLoader:\n",
    "        dataset = TensorDataset(X, y)\n",
    "        return DataLoader(\n",
    "            dataset, batch_size=self.config[\"batch_size\"], shuffle=shuffle\n",
    "        )\n",
    "\n",
    "    def train_epoch(\n",
    "        self,\n",
    "        model: nn.Module,\n",
    "        train_loader: DataLoader,\n",
    "        criterion: nn.Module,\n",
    "        optimizer: optim.Optimizer,\n",
    "    ) -> float:\n",
    "        model.train()\n",
    "        epoch_loss = 0.0\n",
    "        batch_count = 0\n",
    "\n",
    "        for batch_X, batch_y in train_loader:\n",
    "            optimizer.zero_grad()\n",
    "            outputs = model(batch_X)\n",
    "            loss = criterion(outputs, batch_y)\n",
    "            loss.backward()\n",
    "            optimizer.step()\n",
    "\n",
    "            epoch_loss += loss.item()\n",
    "            batch_count += 1\n",
    "\n",
    "        return epoch_loss / batch_count\n",
    "\n",
    "    def train_model(\n",
    "        self,\n",
    "        model: nn.Module,\n",
    "        train_loader: DataLoader,\n",
    "        epochs: int,\n",
    "        metric_prefix: str = \"\",\n",
    "    ) -> None:\n",
    "        criterion = nn.MSELoss()\n",
    "        optimizer = optim.Adam(model.parameters(), lr=self.config[\"learning_rate\"])\n",
    "\n",
    "        for epoch in range(epochs):\n",
    "            avg_mse = self.train_epoch(model, train_loader, criterion, optimizer)\n",
    "\n",
    "            if epoch % self.config[\"log_interval\"] == 0:\n",
    "                metric_name = (\n",
    "                    f\"{metric_prefix}train_mse\" if metric_prefix else \"train_mse\"\n",
    "                )\n",
    "                # manually log metric value, with a given name and step value\n",
    "                mlflow.log_metric(metric_name, avg_mse, step=epoch)\n",
    "\n",
    "    @torch.no_grad()\n",
    "    def evaluate_model(\n",
    "        self,\n",
    "        model: nn.Module,\n",
    "        X: torch.Tensor,\n",
    "        y_test: torch.Tensor,\n",
    "        log_prefix: str = \"\",\n",
    "    ) -> dict[str, float]:\n",
    "        model.eval()\n",
    "        \n",
    "        y_pred_norm = model(X)\n",
    "\n",
    "        # revert the logarithm with exponent\n",
    "        y_pred = np.expm1(y_pred_norm.numpy())\n",
    "        y_test = y_test.numpy()\n",
    "\n",
    "        rmse = root_mean_squared_error(y_test.ravel(), y_pred.ravel())\n",
    "        mae = mean_absolute_error(y_test.ravel(), y_pred.ravel())\n",
    "        r2 = r2_score(y_test.ravel(), y_pred.ravel())\n",
    "\n",
    "        if log_prefix:\n",
    "            # manually log metrics that we want\n",
    "            mlflow.log_metric(f\"{log_prefix}_rmse\", rmse)\n",
    "            mlflow.log_metric(f\"{log_prefix}_mae\", mae)\n",
    "            mlflow.log_metric(f\"{log_prefix}_r2\", r2)\n",
    "\n",
    "        return {\"rmse\": rmse, \"mae\": mae, \"r2\": r2}\n",
    "\n",
    "    def run_cross_validation(\n",
    "        self, X_train: torch.Tensor, y_train: torch.Tensor, n_splits: int = 5\n",
    "    ) -> tuple[float, float, list[float]]:\n",
    "        kf = KFold(n_splits=n_splits, shuffle=True, random_state=42)\n",
    "        cv_scores = []\n",
    "\n",
    "        for fold, (train_idx, val_idx) in enumerate(kf.split(X_train)):\n",
    "            print(f\"\\nTraining Fold {fold + 1}/{n_splits}...\")\n",
    "\n",
    "            X_fold_train = X_train[train_idx]\n",
    "            y_fold_train = y_train[train_idx]\n",
    "            X_fold_val = X_train[val_idx]\n",
    "            y_fold_val = y_train[val_idx]\n",
    "\n",
    "            fold_model = self.create_model(X_train.shape[1])\n",
    "            fold_loader = self.create_data_loader(X_fold_train, y_fold_train)\n",
    "\n",
    "            self.train_model(\n",
    "                fold_model,\n",
    "                fold_loader,\n",
    "                self.config[\"epochs\"],\n",
    "                metric_prefix=f\"fold_{fold + 1}_\",\n",
    "            )\n",
    "\n",
    "            # transform validation data with exponent back to original unit\n",
    "            y_fold_val = np.expm1(y_fold_val)\n",
    "            \n",
    "            val_metrics = self.evaluate_model(\n",
    "                fold_model, X_fold_val, y_fold_val, log_prefix=f\"fold_{fold + 1}_val\"\n",
    "            )\n",
    "\n",
    "            cv_scores.append(val_metrics[\"r2\"])\n",
    "            print(\n",
    "                f\"  Fold {fold + 1} \"\n",
    "                f\"Validation - RMSE: {val_metrics['rmse']:.2f}, \"\n",
    "                f\"MAE: {val_metrics['mae']:.2f} \"\n",
    "                f\"R^2: {val_metrics['r2']:.3f}\"\n",
    "            )\n",
    "\n",
    "        return np.mean(cv_scores), np.std(cv_scores), cv_scores\n",
    "\n",
    "    def fit(\n",
    "        self,\n",
    "        X_train: pd.DataFrame | np.ndarray,\n",
    "        y_train: pd.Series | np.ndarray,\n",
    "        X_test: pd.DataFrame | np.ndarray,\n",
    "        y_test: pd.Series | np.ndarray,\n",
    "    ) -> dict:\n",
    "        X_train, X_test, y_train, y_test = self._prepare_tensors(\n",
    "            X_train, X_test, y_train, y_test\n",
    "        )\n",
    "\n",
    "        with mlflow.start_run(run_name=self.config[\"name\"]):\n",
    "            mlflow.log_params(self.config)\n",
    "\n",
    "            print(f\"Starting 5-fold cross-validation for {self.config['name']}...\")\n",
    "            cv_mean, cv_std, cv_scores = self.run_cross_validation(X_train, y_train)\n",
    "\n",
    "            mlflow.log_metric(\"cv_r2_mean\", cv_mean)\n",
    "            mlflow.log_metric(\"cv_r2_std\", cv_std)\n",
    "\n",
    "            print(\n",
    "                f\"\\nCross-validation complete. Mean R^2: {cv_mean:.3f} (+/- {cv_std:.3f})\"\n",
    "            )\n",
    "            print(\"\\nTraining final model on all training data...\")\n",
    "\n",
    "            final_model = self.create_model(X_train.shape[1])\n",
    "            final_loader = self.create_data_loader(X_train, y_train)\n",
    "\n",
    "            self.train_model(\n",
    "                final_model,\n",
    "                final_loader,\n",
    "                self.config[\"epochs\"],\n",
    "                metric_prefix=\"final_model_\",\n",
    "            )\n",
    "\n",
    "            print(\"\\nEvaluating on test set...\")\n",
    "            test_metrics = self.evaluate_model(final_model, X_test, y_test)\n",
    "\n",
    "            mlflow.log_metric(\"test_rmse\", test_metrics[\"rmse\"])\n",
    "            mlflow.log_metric(\"test_mae\", test_metrics[\"mae\"])\n",
    "            mlflow.log_metric(\"test_r2\", test_metrics[\"r2\"])\n",
    "\n",
    "            self._print_results(test_metrics, cv_mean, cv_std)\n",
    "\n",
    "            return {\n",
    "                \"rmse\": test_metrics[\"rmse\"],\n",
    "                \"mae\": test_metrics[\"mae\"],\n",
    "                \"r2\": test_metrics[\"r2\"],\n",
    "                \"cv_r2_mean\": cv_mean,\n",
    "                \"cv_r2_std\": cv_std,\n",
    "                \"cv_scores\": cv_scores,\n",
    "            }\n",
    "\n",
    "    def _prepare_tensors(self, X_train, X_test, y_train, y_test) -> tuple:\n",
    "        y_train = np.array(y_train)\n",
    "        y_test = np.array(y_test)\n",
    "        \n",
    "        X_train_tensor = torch.FloatTensor(X_train)\n",
    "        y_train_tensor = torch.FloatTensor(y_train.reshape(-1, 1))\n",
    "        \n",
    "        X_test_tensor = torch.FloatTensor(X_test)\n",
    "        y_test_tensor = torch.FloatTensor(y_test.reshape(-1, 1))\n",
    "\n",
    "        print(f\"Training samples: {X_train_tensor.shape[0]}\")\n",
    "        print(f\"Input features: {X_train_tensor.shape[1]}\")\n",
    "        \n",
    "        return X_train_tensor, X_test_tensor, y_train_tensor, y_test_tensor\n",
    "    \n",
    "    def _print_results(\n",
    "        self, test_metrics: dict[str, float], cv_mean: float, cv_std: float\n",
    "    ) -> None:\n",
    "        print(f\"{'=' * 50}\\n\")\n",
    "        print(f\"  Mean R^2: {cv_mean:.3f} (+/- {cv_std:.3f})\")\n",
    "        print(\"\\nCross-Validation Performance:\")\n",
    "        print(f\"  R^2: {test_metrics['r2']:.3f}\")\n",
    "        print(f\"  RMSE: {test_metrics['rmse']:.2f}\")\n",
    "        print(f\"  MAE: {test_metrics['mae']:.2f}\")\n",
    "        print(\"Test Set Performance:\")\n",
    "        print(f\"{'=' * 50}\")\n",
    "        print(f\"FINAL RESULTS for {self.config['name']}:\")\n",
    "        print(f\"\\n{'=' * 50}\")\n"
   ]
  },
  {
   "cell_type": "markdown",
   "id": "2388014f-25b4-4662-a6bd-6c798f1334b3",
   "metadata": {},
   "source": [
    "Quite a bit of code there! So now let's train the model."
   ]
  },
  {
   "cell_type": "code",
   "execution_count": 18,
   "id": "946bd5bf-6e49-49be-88a7-26eedcc6d8cd",
   "metadata": {
    "execution": {
     "iopub.execute_input": "2025-06-06T22:56:47.055971Z",
     "iopub.status.busy": "2025-06-06T22:56:47.055779Z",
     "iopub.status.idle": "2025-06-06T22:56:47.058175Z",
     "shell.execute_reply": "2025-06-06T22:56:47.057807Z",
     "shell.execute_reply.started": "2025-06-06T22:56:47.055960Z"
    }
   },
   "outputs": [],
   "source": [
    "base_config = {\n",
    "    \"model_class\": HousePriceNet,\n",
    "    \"random_seed\": 42,\n",
    "    \"log_interval\": 5,\n",
    "    \"num_samples\": X_train.shape[0],\n",
    "    \"input_features\": X_train.shape[1],\n",
    "    \"k_folds\": 5,\n",
    "}\n",
    "\n",
    "config = {\n",
    "    \"name\": \"first_run\",\n",
    "    \"hidden_units\": 128,\n",
    "    \"dropout\": 0.1,\n",
    "    \"learning_rate\": 0.03,\n",
    "    \"epochs\": 150,\n",
    "    \"batch_size\": 32,\n",
    "}"
   ]
  },
  {
   "cell_type": "code",
   "execution_count": 19,
   "id": "223910e8-22e0-4b90-a2fe-00a64b4125c9",
   "metadata": {
    "execution": {
     "iopub.execute_input": "2025-06-06T22:56:47.417057Z",
     "iopub.status.busy": "2025-06-06T22:56:47.416860Z",
     "iopub.status.idle": "2025-06-06T22:57:31.364127Z",
     "shell.execute_reply": "2025-06-06T22:57:31.363789Z",
     "shell.execute_reply.started": "2025-06-06T22:56:47.417042Z"
    },
    "scrolled": true
   },
   "outputs": [
    {
     "name": "stdout",
     "output_type": "stream",
     "text": [
      "Training samples: 1312\n",
      "Input features: 181\n",
      "Starting 5-fold cross-validation for first_run...\n",
      "\n",
      "Training Fold 1/5...\n",
      "  Fold 1 Validation - RMSE: 28175.25, MAE: 20879.53 R^2: 0.871\n",
      "\n",
      "Training Fold 2/5...\n",
      "  Fold 2 Validation - RMSE: 24790.24, MAE: 18780.58 R^2: 0.896\n",
      "\n",
      "Training Fold 3/5...\n",
      "  Fold 3 Validation - RMSE: 46755.18, MAE: 33128.82 R^2: 0.692\n",
      "\n",
      "Training Fold 4/5...\n",
      "  Fold 4 Validation - RMSE: 28386.62, MAE: 19334.85 R^2: 0.867\n",
      "\n",
      "Training Fold 5/5...\n",
      "  Fold 5 Validation - RMSE: 35272.94, MAE: 24879.62 R^2: 0.807\n",
      "\n",
      "Cross-validation complete. Mean R^2: 0.826 (+/- 0.074)\n",
      "\n",
      "Training final model on all training data...\n",
      "\n",
      "Evaluating on test set...\n",
      "==================================================\n",
      "\n",
      "  Mean R^2: 0.826 (+/- 0.074)\n",
      "\n",
      "Cross-Validation Performance:\n",
      "  R^2: 0.915\n",
      "  RMSE: 22073.86\n",
      "  MAE: 14986.01\n",
      "Test Set Performance:\n",
      "==================================================\n",
      "FINAL RESULTS for first_run:\n",
      "\n",
      "==================================================\n",
      "🏃 View run first_run at: http://localhost:5000/#/experiments/2/runs/223b01208b944a64bbd5aec52ac97d48\n",
      "🧪 View experiment at: http://localhost:5000/#/experiments/2\n"
     ]
    }
   ],
   "source": [
    "training_config = base_config | config\n",
    "\n",
    "trainer = PyTorchTrainer(training_config[\"model_class\"], training_config)\n",
    "results = trainer.fit(X_train, y_train_log, X_test, y_test)"
   ]
  },
  {
   "cell_type": "markdown",
   "id": "4e4aba34-309b-4a60-b9b8-81e313930c2e",
   "metadata": {},
   "source": [
    "Go to the MLflow dashboard and take a look at logged values. Focus particularly on the \"Model metrics\" tab, which for neural networks visualizes the progress of iterative training."
   ]
  },
  {
   "cell_type": "markdown",
   "id": "7e10dbd9-db33-4d01-8e8c-62b337790fb0",
   "metadata": {},
   "source": [
    "### 3.3 Hyperparameter optimization with MLflow"
   ]
  },
  {
   "cell_type": "markdown",
   "id": "5f29c2b4-b06f-45d6-be97-faf6a12bf48e",
   "metadata": {},
   "source": [
    "Now, we will use MLflow logging and visualization capabilities to help us tune hyperparameters of neural networks. This is one of the major applications of experiment tracking frameworks. As neural networks have many hyperparameters, with complex interactions, and training them many times is very computationally intensive, we want to use human judgment, based on plots and metrics, to guide our choices in further experiments.\n",
    "\n",
    "A quick recap on main hyperparameters of MLPs:\n",
    "\n",
    "1. **Learning rate:**\n",
    "   - typically 1e-5 to 1e-1\n",
    "   - too high: loss explodes, model diverges\n",
    "   - too low: slow convergence, might get stuck\n",
    "   - sweet spot: fast convergence to good minimum\n",
    "\n",
    "3. **Model size** - number of hidden units here:\n",
    "   - typically 32 to 512\n",
    "   - too few: underfitting, can't capture patterns\n",
    "   - too many: overfitting, slow training, diminishing returns\n",
    "   - consider: more features need more capacity\n",
    "\n",
    "5. **Dropout rate:**\n",
    "   - typically 0.0 to 0.5\n",
    "   - 0.0: no regularization, risk overfitting\n",
    "   - too high: underfitting, loses important information\n",
    "   - purpose: prevents over-reliance on specific neurons\n",
    "\n",
    "7. **Batch size:**\n",
    "   - typically 16 to 128\n",
    "   - small: noisy gradients, often better generalization, slower\n",
    "   - large: stable gradients, faster training, needs more memory, may overfit\n",
    "   - trade-off: speed vs generalization\n",
    "\n",
    "9. **Number of epochs:**\n",
    "   - too few: underfitting\n",
    "   - too many: overfitting\n",
    "   - optimal: when validation loss stops improving\n",
    "   - watch validation loss\n"
   ]
  },
  {
   "cell_type": "markdown",
   "id": "4cd8408a-af15-495f-9317-ebef6ba12607",
   "metadata": {},
   "source": [
    "### Exercise 2"
   ]
  },
  {
   "cell_type": "markdown",
   "id": "068c8473-e559-411b-9fe7-af11bb6a90b5",
   "metadata": {},
   "source": [
    "Your task is to:\n",
    "1. Run 10 experiments by modifying the hyperparameter configuration. Try to improve model performance, which is currently overfitted.\n",
    "2. Analyze results in MLflow UI.\n",
    "3. Comment on what changes impacted the model performance the most, and what changes disrupted the training process.\n",
    "4. Compare the results of our first scikit-learn configuration with the first PyTorch experiments. Do you see any overfitting in the first PyTorch experiment? Explain what signs of overfitting can indicate this situation.\n",
    "\n",
    "Example:\n",
    "\n",
    "```python\n",
    "\n",
    "base_config = {\n",
    "    # or any other your own architecture :) we definitely recommend to experiment by yourselves\n",
    "    \"model_class\": HousePriceNet,\n",
    "    \"random_seed\": 42,\n",
    "    \"log_interval\": 5,\n",
    "    \"input_features\": X_train.shape[1],\n",
    "    \"num_samples\": X_train.shape[0],\n",
    "    \"target_normalized\": True,\n",
    "    \"k_folds\": 5,\n",
    "}\n",
    "\n",
    "configs = {\n",
    "     {\n",
    "        \"name\": \"first_run_or_other_your_own_meaningful_name\",\n",
    "        \"hidden_units\": 128,\n",
    "         ...\n",
    "     },\n",
    "    {\n",
    "        \"name\": \"second_run_or...\",\n",
    "        \"hidden_units\": 128,\n",
    "        \"dropout\": 0.1,\n",
    "        \"learning_rate\": 0.03,\n",
    "        \"epochs\": 150,\n",
    "        \"batch_size\": 32,    \n",
    "    }\n",
    "}\n",
    "\n",
    "for config in configs:\n",
    "    # in python we can in elegant way merge two dicts using \"|\" operator - finally...\n",
    "    # old merging method {**base_config, **config} - ugly :(\n",
    "    training_config = base_config | config \n",
    "    trainer = PyTorchTrainer(training_config[\"model_class\"], preprocessor, training_config)\n",
    "    results = trainer.fit(X_train, y_train, X_test, y_test)\n",
    "```\n",
    "\n",
    "or just manually and incrementally:\n",
    "\n",
    "```python\n",
    "new_config = {\n",
    "    \"name\": \"second_run_or...\",\n",
    "    \"hidden_units\": 128,\n",
    "    \"dropout\": 0.1,\n",
    "    \"learning_rate\": 0.03,\n",
    "    \"epochs\": 150,\n",
    "    \"batch_size\": 32,    \n",
    "}\n",
    "\n",
    "training_config = base_config | config \n",
    "trainer = PyTorchTrainer(training_config[\"model_class\"], preprocessor, training_config)\n",
    "results = trainer.fit(X_train, y_train, X_test, y_test)\n",
    "```"
   ]
  },
  {
   "cell_type": "markdown",
   "id": "4ae23a2e-aab6-40f4-9811-6b97a0f9a4d1",
   "metadata": {},
   "source": [
    "### Lab assessment\n",
    "\n",
    "Fill the code exercises in this Jupyter notebook, and send it with completed exercises, written comments in Markdown cells (particularly for questions in exercise 2), and screenshots of results in MLflow."
   ]
  },
  {
   "cell_type": "code",
   "execution_count": 21,
   "id": "e469a39e-2346-4a23-9562-602cecab93d9",
   "metadata": {},
   "outputs": [
    {
     "name": "stdout",
     "output_type": "stream",
     "text": [
      "Training samples: 1312\n",
      "Input features: 181\n",
      "Starting 5-fold cross-validation for run_more_hidden_units...\n",
      "\n",
      "Training Fold 1/5...\n",
      "  Fold 1 Validation - RMSE: 32507.85, MAE: 23855.39 R^2: 0.828\n",
      "\n",
      "Training Fold 2/5...\n",
      "  Fold 2 Validation - RMSE: 50687.46, MAE: 41588.64 R^2: 0.565\n",
      "\n",
      "Training Fold 3/5...\n",
      "  Fold 3 Validation - RMSE: 40303.02, MAE: 30271.79 R^2: 0.771\n",
      "\n",
      "Training Fold 4/5...\n",
      "  Fold 4 Validation - RMSE: 46087.93, MAE: 34765.31 R^2: 0.648\n",
      "\n",
      "Training Fold 5/5...\n",
      "  Fold 5 Validation - RMSE: 42570.84, MAE: 32455.80 R^2: 0.718\n",
      "\n",
      "Cross-validation complete. Mean R^2: 0.706 (+/- 0.092)\n",
      "\n",
      "Training final model on all training data...\n",
      "\n",
      "Evaluating on test set...\n",
      "==================================================\n",
      "\n",
      "  Mean R^2: 0.706 (+/- 0.092)\n",
      "\n",
      "Cross-Validation Performance:\n",
      "  R^2: 0.002\n",
      "  RMSE: 75499.68\n",
      "  MAE: 60107.77\n",
      "Test Set Performance:\n",
      "==================================================\n",
      "FINAL RESULTS for run_more_hidden_units:\n",
      "\n",
      "==================================================\n",
      "🏃 View run run_more_hidden_units at: http://localhost:5000/#/experiments/2/runs/ff37e59b40d34a43973f1cab787a37af\n",
      "🧪 View experiment at: http://localhost:5000/#/experiments/2\n",
      "Training samples: 1312\n",
      "Input features: 181\n",
      "Starting 5-fold cross-validation for run_higher_dropout...\n",
      "\n",
      "Training Fold 1/5...\n",
      "  Fold 1 Validation - RMSE: 24314.70, MAE: 17323.68 R^2: 0.904\n",
      "\n",
      "Training Fold 2/5...\n",
      "  Fold 2 Validation - RMSE: 28932.60, MAE: 19392.22 R^2: 0.858\n",
      "\n",
      "Training Fold 3/5...\n",
      "  Fold 3 Validation - RMSE: 24537.53, MAE: 17058.36 R^2: 0.915\n",
      "\n",
      "Training Fold 4/5...\n",
      "  Fold 4 Validation - RMSE: 25639.68, MAE: 17379.61 R^2: 0.891\n",
      "\n",
      "Training Fold 5/5...\n",
      "  Fold 5 Validation - RMSE: 32445.12, MAE: 22298.79 R^2: 0.836\n",
      "\n",
      "Cross-validation complete. Mean R^2: 0.881 (+/- 0.029)\n",
      "\n",
      "Training final model on all training data...\n",
      "\n",
      "Evaluating on test set...\n",
      "==================================================\n",
      "\n",
      "  Mean R^2: 0.881 (+/- 0.029)\n",
      "\n",
      "Cross-Validation Performance:\n",
      "  R^2: 0.913\n",
      "  RMSE: 22330.76\n",
      "  MAE: 15877.83\n",
      "Test Set Performance:\n",
      "==================================================\n",
      "FINAL RESULTS for run_higher_dropout:\n",
      "\n",
      "==================================================\n",
      "🏃 View run run_higher_dropout at: http://localhost:5000/#/experiments/2/runs/6ff7db49f9b34569a5d53205c1b56fda\n",
      "🧪 View experiment at: http://localhost:5000/#/experiments/2\n",
      "Training samples: 1312\n",
      "Input features: 181\n",
      "Starting 5-fold cross-validation for run_lower_learning_rate...\n",
      "\n",
      "Training Fold 1/5...\n",
      "  Fold 1 Validation - RMSE: 66468.36, MAE: 56538.87 R^2: 0.283\n",
      "\n",
      "Training Fold 2/5...\n",
      "  Fold 2 Validation - RMSE: 45587.98, MAE: 34421.68 R^2: 0.649\n",
      "\n",
      "Training Fold 3/5...\n",
      "  Fold 3 Validation - RMSE: 83666.90, MAE: 63311.00 R^2: 0.013\n",
      "\n",
      "Training Fold 4/5...\n",
      "  Fold 4 Validation - RMSE: 58471.39, MAE: 45816.24 R^2: 0.434\n",
      "\n",
      "Training Fold 5/5...\n",
      "  Fold 5 Validation - RMSE: 37983.08, MAE: 27369.51 R^2: 0.776\n",
      "\n",
      "Cross-validation complete. Mean R^2: 0.431 (+/- 0.270)\n",
      "\n",
      "Training final model on all training data...\n",
      "\n",
      "Evaluating on test set...\n",
      "==================================================\n",
      "\n",
      "  Mean R^2: 0.431 (+/- 0.270)\n",
      "\n",
      "Cross-Validation Performance:\n",
      "  R^2: 0.494\n",
      "  RMSE: 53764.16\n",
      "  MAE: 38023.12\n",
      "Test Set Performance:\n",
      "==================================================\n",
      "FINAL RESULTS for run_lower_learning_rate:\n",
      "\n",
      "==================================================\n",
      "🏃 View run run_lower_learning_rate at: http://localhost:5000/#/experiments/2/runs/9b6f9e5a11a74fc2aee175a3d75ac4a6\n",
      "🧪 View experiment at: http://localhost:5000/#/experiments/2\n",
      "Training samples: 1312\n",
      "Input features: 181\n",
      "Starting 5-fold cross-validation for run_less_epochs...\n",
      "\n",
      "Training Fold 1/5...\n",
      "  Fold 1 Validation - RMSE: 59057.39, MAE: 43037.95 R^2: 0.434\n",
      "\n",
      "Training Fold 2/5...\n",
      "  Fold 2 Validation - RMSE: 130834.97, MAE: 78865.55 R^2: -1.895\n",
      "\n",
      "Training Fold 3/5...\n",
      "  Fold 3 Validation - RMSE: 81760.19, MAE: 69247.27 R^2: 0.057\n",
      "\n",
      "Training Fold 4/5...\n",
      "  Fold 4 Validation - RMSE: 59447.61, MAE: 42920.12 R^2: 0.415\n",
      "\n",
      "Training Fold 5/5...\n",
      "  Fold 5 Validation - RMSE: 58429.37, MAE: 44070.15 R^2: 0.469\n",
      "\n",
      "Cross-validation complete. Mean R^2: -0.104 (+/- 0.908)\n",
      "\n",
      "Training final model on all training data...\n",
      "\n",
      "Evaluating on test set...\n",
      "==================================================\n",
      "\n",
      "  Mean R^2: -0.104 (+/- 0.908)\n",
      "\n",
      "Cross-Validation Performance:\n",
      "  R^2: -5.176\n",
      "  RMSE: 187843.22\n",
      "  MAE: 150239.70\n",
      "Test Set Performance:\n",
      "==================================================\n",
      "FINAL RESULTS for run_less_epochs:\n",
      "\n",
      "==================================================\n",
      "🏃 View run run_less_epochs at: http://localhost:5000/#/experiments/2/runs/0f3b458b64f144ca84f5dc0f1a4738ae\n",
      "🧪 View experiment at: http://localhost:5000/#/experiments/2\n",
      "Training samples: 1312\n",
      "Input features: 181\n",
      "Starting 5-fold cross-validation for run_smaller_batch_size...\n",
      "\n",
      "Training Fold 1/5...\n",
      "  Fold 1 Validation - RMSE: 31350.31, MAE: 21697.90 R^2: 0.840\n",
      "\n",
      "Training Fold 2/5...\n",
      "  Fold 2 Validation - RMSE: 52378.34, MAE: 36677.06 R^2: 0.536\n",
      "\n",
      "Training Fold 3/5...\n",
      "  Fold 3 Validation - RMSE: 31763.83, MAE: 22423.34 R^2: 0.858\n",
      "\n",
      "Training Fold 4/5...\n",
      "  Fold 4 Validation - RMSE: 27049.81, MAE: 18753.44 R^2: 0.879\n",
      "\n",
      "Training Fold 5/5...\n",
      "  Fold 5 Validation - RMSE: 32809.60, MAE: 22975.68 R^2: 0.833\n",
      "\n",
      "Cross-validation complete. Mean R^2: 0.789 (+/- 0.128)\n",
      "\n",
      "Training final model on all training data...\n",
      "\n",
      "Evaluating on test set...\n",
      "==================================================\n",
      "\n",
      "  Mean R^2: 0.789 (+/- 0.128)\n",
      "\n",
      "Cross-Validation Performance:\n",
      "  R^2: 0.753\n",
      "  RMSE: 37562.75\n",
      "  MAE: 29760.93\n",
      "Test Set Performance:\n",
      "==================================================\n",
      "FINAL RESULTS for run_smaller_batch_size:\n",
      "\n",
      "==================================================\n",
      "🏃 View run run_smaller_batch_size at: http://localhost:5000/#/experiments/2/runs/e46f614bdfca4686b8b28e35381d6b73\n",
      "🧪 View experiment at: http://localhost:5000/#/experiments/2\n"
     ]
    }
   ],
   "source": [
    "base_config = {\n",
    "    \"model_class\": HousePriceNet,\n",
    "    \"random_seed\": 42,\n",
    "    \"log_interval\": 5,\n",
    "    \"input_features\": X_train.shape[1],\n",
    "    \"num_samples\": X_train.shape[0],\n",
    "    \"target_normalized\": True,\n",
    "    \"k_folds\": 5,\n",
    "}\n",
    "\n",
    "# first let's try to modify one parameter at a time\n",
    "# and see how it affects the model performance\n",
    "# we will use the same base config for all runs\n",
    "# and only change the parameters we want to test\n",
    "\n",
    "configs = [\n",
    "     {\n",
    "        \"name\": \"run_more_hidden_units\",\n",
    "        \"hidden_units\": 258,\n",
    "        \"dropout\": 0.1,\n",
    "        \"learning_rate\": 0.03,\n",
    "        \"epochs\": 150,\n",
    "        \"batch_size\": 32,   \n",
    "     },\n",
    "    {\n",
    "        \"name\": \"run_higher_dropout\",\n",
    "        \"hidden_units\": 128,\n",
    "        \"dropout\": 0.2,\n",
    "        \"learning_rate\": 0.03,\n",
    "        \"epochs\": 150,\n",
    "        \"batch_size\": 32,    \n",
    "    },\n",
    "    {\n",
    "        \"name\": \"run_lower_learning_rate\",\n",
    "        \"hidden_units\": 128,\n",
    "        \"dropout\": 0.1,\n",
    "        \"learning_rate\": 0.01,\n",
    "        \"epochs\": 150,\n",
    "        \"batch_size\": 32,    \n",
    "    },\n",
    "    {\n",
    "        \"name\": \"run_less_epochs\",\n",
    "        \"hidden_units\": 128,\n",
    "        \"dropout\": 0.1,\n",
    "        \"learning_rate\": 0.03,\n",
    "        \"epochs\": 50,\n",
    "        \"batch_size\": 32,    \n",
    "    },\n",
    "    {\n",
    "        \"name\": \"run_smaller_batch_size\",\n",
    "        \"hidden_units\": 128,\n",
    "        \"dropout\": 0.1,\n",
    "        \"learning_rate\": 0.03,\n",
    "        \"epochs\": 150,\n",
    "        \"batch_size\": 16,    \n",
    "    },\n",
    "]\n",
    "\n",
    "for config in configs:\n",
    "    # in python we can in elegant way merge two dicts using \"|\" operator - finally...\n",
    "    # old merging method {**base_config, **config} - ugly :(\n",
    "    training_config = base_config | config\n",
    "\n",
    "    trainer = PyTorchTrainer(training_config[\"model_class\"], training_config)\n",
    "    results = trainer.fit(X_train, y_train_log, X_test, y_test)"
   ]
  },
  {
   "cell_type": "markdown",
   "id": "5b44fc02",
   "metadata": {},
   "source": [
    "1. From graphs, it looks like only the higher dropdown has positive impact on both, R2 and MSE."
   ]
  },
  {
   "cell_type": "code",
   "execution_count": null,
   "id": "5e697144",
   "metadata": {},
   "outputs": [
    {
     "name": "stdout",
     "output_type": "stream",
     "text": [
      "Training samples: 1312\n",
      "Input features: 181\n",
      "Starting 5-fold cross-validation for run_6_higher_dropout_less_hidden_units...\n",
      "\n",
      "Training Fold 1/5...\n",
      "  Fold 1 Validation - RMSE: 24988.27, MAE: 17786.70 R^2: 0.899\n",
      "\n",
      "Training Fold 2/5...\n",
      "  Fold 2 Validation - RMSE: 23783.56, MAE: 16275.03 R^2: 0.904\n",
      "\n",
      "Training Fold 3/5...\n",
      "  Fold 3 Validation - RMSE: 20376.17, MAE: 14551.23 R^2: 0.941\n",
      "\n",
      "Training Fold 4/5...\n",
      "  Fold 4 Validation - RMSE: 29716.14, MAE: 20643.15 R^2: 0.854\n",
      "\n",
      "Training Fold 5/5...\n",
      "  Fold 5 Validation - RMSE: 25547.82, MAE: 16712.15 R^2: 0.899\n",
      "\n",
      "Cross-validation complete. Mean R^2: 0.899 (+/- 0.028)\n",
      "\n",
      "Training final model on all training data...\n",
      "\n",
      "Evaluating on test set...\n",
      "==================================================\n",
      "\n",
      "  Mean R^2: 0.899 (+/- 0.028)\n",
      "\n",
      "Cross-Validation Performance:\n",
      "  R^2: 0.895\n",
      "  RMSE: 24472.40\n",
      "  MAE: 17951.25\n",
      "Test Set Performance:\n",
      "==================================================\n",
      "FINAL RESULTS for run_6_higher_dropout_less_hidden_units:\n",
      "\n",
      "==================================================\n",
      "🏃 View run run_6_higher_dropout_less_hidden_units at: http://localhost:5000/#/experiments/2/runs/03d2855ea89a4cc88dfbdc51258edaa2\n",
      "🧪 View experiment at: http://localhost:5000/#/experiments/2\n",
      "Training samples: 1312\n",
      "Input features: 181\n",
      "Starting 5-fold cross-validation for run_7_high_dropout_higher_learning_rate...\n",
      "\n",
      "Training Fold 1/5...\n",
      "  Fold 1 Validation - RMSE: 35628.05, MAE: 23665.33 R^2: 0.794\n",
      "\n",
      "Training Fold 2/5...\n",
      "  Fold 2 Validation - RMSE: 39177.47, MAE: 28302.09 R^2: 0.740\n",
      "\n",
      "Training Fold 3/5...\n",
      "  Fold 3 Validation - RMSE: 41914.74, MAE: 30683.82 R^2: 0.752\n",
      "\n",
      "Training Fold 4/5...\n",
      "  Fold 4 Validation - RMSE: 36473.77, MAE: 25892.07 R^2: 0.780\n",
      "\n",
      "Training Fold 5/5...\n",
      "  Fold 5 Validation - RMSE: 53565.59, MAE: 42853.45 R^2: 0.554\n",
      "\n",
      "Cross-validation complete. Mean R^2: 0.724 (+/- 0.087)\n",
      "\n",
      "Training final model on all training data...\n",
      "\n",
      "Evaluating on test set...\n",
      "==================================================\n",
      "\n",
      "  Mean R^2: 0.724 (+/- 0.087)\n",
      "\n",
      "Cross-Validation Performance:\n",
      "  R^2: 0.822\n",
      "  RMSE: 31915.52\n",
      "  MAE: 22417.40\n",
      "Test Set Performance:\n",
      "==================================================\n",
      "FINAL RESULTS for run_7_high_dropout_higher_learning_rate:\n",
      "\n",
      "==================================================\n",
      "🏃 View run run_7_high_dropout_higher_learning_rate at: http://localhost:5000/#/experiments/2/runs/ea93cee047ae441182446608ab0c953f\n",
      "🧪 View experiment at: http://localhost:5000/#/experiments/2\n"
     ]
    }
   ],
   "source": [
    "# let's try another 2 runs with different configurations\n",
    "# we will use the same base config for all runs\n",
    "\n",
    "configs = [\n",
    "     {\n",
    "        \"name\": \"run_6_higher_dropout_less_hidden_units\",\n",
    "        \"hidden_units\": 64,\n",
    "        \"dropout\": 0.3,\n",
    "        \"learning_rate\": 0.03,\n",
    "        \"epochs\": 150,\n",
    "        \"batch_size\": 32,   \n",
    "     },\n",
    "    {\n",
    "        \"name\": \"run_7_high_dropout_higher_learning_rate\",\n",
    "        \"hidden_units\": 128,\n",
    "        \"dropout\": 0.2,\n",
    "        \"learning_rate\": 0.01,\n",
    "        \"epochs\": 150,\n",
    "        \"batch_size\": 32,    \n",
    "    },\n",
    "]\n",
    "\n",
    "for config in configs:\n",
    "    # in python we can in elegant way merge two dicts using \"|\" operator - finally...\n",
    "    # old merging method {**base_config, **config} - ugly :(\n",
    "    training_config = base_config | config\n",
    "\n",
    "    trainer = PyTorchTrainer(training_config[\"model_class\"], training_config)\n",
    "    results = trainer.fit(X_train, y_train_log, X_test, y_test)"
   ]
  },
  {
   "cell_type": "markdown",
   "id": "4528a673",
   "metadata": {},
   "source": [
    "From 6-2-11 graph it looks like run_6_higher_dropout_less_hidden_units is performing better. Let's try another 3 runs."
   ]
  },
  {
   "cell_type": "code",
   "execution_count": 23,
   "id": "55543cce",
   "metadata": {},
   "outputs": [
    {
     "name": "stdout",
     "output_type": "stream",
     "text": [
      "Training samples: 1312\n",
      "Input features: 181\n",
      "Starting 5-fold cross-validation for run_8_higher_learning_rate...\n",
      "\n",
      "Training Fold 1/5...\n",
      "  Fold 1 Validation - RMSE: 29209.48, MAE: 21115.22 R^2: 0.861\n",
      "\n",
      "Training Fold 2/5...\n",
      "  Fold 2 Validation - RMSE: 39673.24, MAE: 26496.54 R^2: 0.734\n",
      "\n",
      "Training Fold 3/5...\n",
      "  Fold 3 Validation - RMSE: 30017.77, MAE: 21802.89 R^2: 0.873\n",
      "\n",
      "Training Fold 4/5...\n",
      "  Fold 4 Validation - RMSE: 35721.89, MAE: 23326.81 R^2: 0.789\n",
      "\n",
      "Training Fold 5/5...\n",
      "  Fold 5 Validation - RMSE: 48170.58, MAE: 35558.21 R^2: 0.639\n",
      "\n",
      "Cross-validation complete. Mean R^2: 0.779 (+/- 0.086)\n",
      "\n",
      "Training final model on all training data...\n",
      "\n",
      "Evaluating on test set...\n",
      "==================================================\n",
      "\n",
      "  Mean R^2: 0.779 (+/- 0.086)\n",
      "\n",
      "Cross-Validation Performance:\n",
      "  R^2: 0.810\n",
      "  RMSE: 32921.17\n",
      "  MAE: 24087.40\n",
      "Test Set Performance:\n",
      "==================================================\n",
      "FINAL RESULTS for run_8_higher_learning_rate:\n",
      "\n",
      "==================================================\n",
      "🏃 View run run_8_higher_learning_rate at: http://localhost:5000/#/experiments/2/runs/02522edebc004452a7eee148821adeed\n",
      "🧪 View experiment at: http://localhost:5000/#/experiments/2\n",
      "Training samples: 1312\n",
      "Input features: 181\n",
      "Starting 5-fold cross-validation for run_9_higher_dropout...\n",
      "\n",
      "Training Fold 1/5...\n",
      "  Fold 1 Validation - RMSE: 28608.44, MAE: 19099.74 R^2: 0.867\n",
      "\n",
      "Training Fold 2/5...\n",
      "  Fold 2 Validation - RMSE: 31129.49, MAE: 22865.91 R^2: 0.836\n",
      "\n",
      "Training Fold 3/5...\n",
      "  Fold 3 Validation - RMSE: 24285.21, MAE: 18002.29 R^2: 0.917\n",
      "\n",
      "Training Fold 4/5...\n",
      "  Fold 4 Validation - RMSE: 32427.15, MAE: 21587.49 R^2: 0.826\n",
      "\n",
      "Training Fold 5/5...\n",
      "  Fold 5 Validation - RMSE: 29259.81, MAE: 20313.75 R^2: 0.867\n",
      "\n",
      "Cross-validation complete. Mean R^2: 0.863 (+/- 0.032)\n",
      "\n",
      "Training final model on all training data...\n",
      "\n",
      "Evaluating on test set...\n",
      "==================================================\n",
      "\n",
      "  Mean R^2: 0.863 (+/- 0.032)\n",
      "\n",
      "Cross-Validation Performance:\n",
      "  R^2: 0.872\n",
      "  RMSE: 27088.19\n",
      "  MAE: 18586.89\n",
      "Test Set Performance:\n",
      "==================================================\n",
      "FINAL RESULTS for run_9_higher_dropout:\n",
      "\n",
      "==================================================\n",
      "🏃 View run run_9_higher_dropout at: http://localhost:5000/#/experiments/2/runs/5eea8dcde83b410d820d2f826fd8acf3\n",
      "🧪 View experiment at: http://localhost:5000/#/experiments/2\n",
      "Training samples: 1312\n",
      "Input features: 181\n",
      "Starting 5-fold cross-validation for run_10_smaller_batch_size_high_dropout...\n",
      "\n",
      "Training Fold 1/5...\n",
      "  Fold 1 Validation - RMSE: 79621.59, MAE: 54238.93 R^2: -0.030\n",
      "\n",
      "Training Fold 2/5...\n",
      "  Fold 2 Validation - RMSE: 77136.12, MAE: 54329.80 R^2: -0.006\n",
      "\n",
      "Training Fold 3/5...\n",
      "  Fold 3 Validation - RMSE: 85561.15, MAE: 59847.04 R^2: -0.033\n",
      "\n",
      "Training Fold 4/5...\n",
      "  Fold 4 Validation - RMSE: 45121.51, MAE: 33190.20 R^2: 0.663\n",
      "\n",
      "Training Fold 5/5...\n",
      "  Fold 5 Validation - RMSE: 82145.22, MAE: 58248.01 R^2: -0.049\n",
      "\n",
      "Cross-validation complete. Mean R^2: 0.109 (+/- 0.277)\n",
      "\n",
      "Training final model on all training data...\n",
      "\n",
      "Evaluating on test set...\n",
      "==================================================\n",
      "\n",
      "  Mean R^2: 0.109 (+/- 0.277)\n",
      "\n",
      "Cross-Validation Performance:\n",
      "  R^2: -0.013\n",
      "  RMSE: 76068.92\n",
      "  MAE: 55425.30\n",
      "Test Set Performance:\n",
      "==================================================\n",
      "FINAL RESULTS for run_10_smaller_batch_size_high_dropout:\n",
      "\n",
      "==================================================\n",
      "🏃 View run run_10_smaller_batch_size_high_dropout at: http://localhost:5000/#/experiments/2/runs/1bc2d2202c8d44e6949fc02ec7e84569\n",
      "🧪 View experiment at: http://localhost:5000/#/experiments/2\n"
     ]
    }
   ],
   "source": [
    "# let's try another 3 runs with different configurations\n",
    "# we will use the same base config for all runs\n",
    "\n",
    "configs = [\n",
    "     {\n",
    "        \"name\": \"run_8_higher_learning_rate\",\n",
    "        \"hidden_units\": 64,\n",
    "        \"dropout\": 0.3,\n",
    "        \"learning_rate\": 0.1,\n",
    "        \"epochs\": 150,\n",
    "        \"batch_size\": 32,   \n",
    "     },\n",
    "     {\n",
    "        \"name\": \"run_9_higher_dropout\",\n",
    "        \"hidden_units\": 64,\n",
    "        \"dropout\": 0.4,\n",
    "        \"learning_rate\": 0.03,\n",
    "        \"epochs\": 150,\n",
    "        \"batch_size\": 32,   \n",
    "     },\n",
    "          {\n",
    "        \"name\": \"run_10_smaller_batch_size_high_dropout\",\n",
    "        \"hidden_units\": 64,\n",
    "        \"dropout\": 0.4,\n",
    "        \"learning_rate\": 0.05,\n",
    "        \"epochs\": 150,\n",
    "        \"batch_size\": 16,   \n",
    "     },\n",
    "]\n",
    "\n",
    "for config in configs:\n",
    "    # in python we can in elegant way merge two dicts using \"|\" operator - finally...\n",
    "    # old merging method {**base_config, **config} - ugly :(\n",
    "    training_config = base_config | config\n",
    "\n",
    "    trainer = PyTorchTrainer(training_config[\"model_class\"], training_config)\n",
    "    results = trainer.fit(X_train, y_train_log, X_test, y_test)"
   ]
  },
  {
   "cell_type": "markdown",
   "id": "44e1018c",
   "metadata": {},
   "source": [
    "In ipum_lab_6-2-12 graph looks like there is no further improvement."
   ]
  },
  {
   "cell_type": "code",
   "execution_count": 24,
   "id": "9466ea43",
   "metadata": {},
   "outputs": [
    {
     "name": "stdout",
     "output_type": "stream",
     "text": [
      "Training samples: 1312\n",
      "Input features: 181\n",
      "Starting 5-fold cross-validation for run_11_higher_learning_rate...\n",
      "\n",
      "Training Fold 1/5...\n",
      "  Fold 1 Validation - RMSE: 82969.73, MAE: 59152.75 R^2: -0.118\n",
      "\n",
      "Training Fold 2/5...\n",
      "  Fold 2 Validation - RMSE: 68463.75, MAE: 54969.91 R^2: 0.207\n",
      "\n",
      "Training Fold 3/5...\n",
      "  Fold 3 Validation - RMSE: 44350.89, MAE: 32095.08 R^2: 0.723\n",
      "\n",
      "Training Fold 4/5...\n",
      "  Fold 4 Validation - RMSE: 45596.86, MAE: 33045.02 R^2: 0.656\n",
      "\n",
      "Training Fold 5/5...\n",
      "  Fold 5 Validation - RMSE: 74092.20, MAE: 60705.17 R^2: 0.147\n",
      "\n",
      "Cross-validation complete. Mean R^2: 0.323 (+/- 0.319)\n",
      "\n",
      "Training final model on all training data...\n",
      "\n",
      "Evaluating on test set...\n",
      "==================================================\n",
      "\n",
      "  Mean R^2: 0.323 (+/- 0.319)\n",
      "\n",
      "Cross-Validation Performance:\n",
      "  R^2: 0.667\n",
      "  RMSE: 43603.41\n",
      "  MAE: 30765.10\n",
      "Test Set Performance:\n",
      "==================================================\n",
      "FINAL RESULTS for run_11_higher_learning_rate:\n",
      "\n",
      "==================================================\n",
      "🏃 View run run_11_higher_learning_rate at: http://localhost:5000/#/experiments/2/runs/13bce26a88dd4b6c9d37e6349c93035f\n",
      "🧪 View experiment at: http://localhost:5000/#/experiments/2\n",
      "Training samples: 1312\n",
      "Input features: 181\n",
      "Starting 5-fold cross-validation for run_12_more_hidden_units...\n",
      "\n",
      "Training Fold 1/5...\n",
      "  Fold 1 Validation - RMSE: 55566.32, MAE: 34275.53 R^2: 0.499\n",
      "\n",
      "Training Fold 2/5...\n",
      "  Fold 2 Validation - RMSE: 139388.55, MAE: 109077.60 R^2: -2.286\n",
      "\n",
      "Training Fold 3/5...\n",
      "  Fold 3 Validation - RMSE: 37256.23, MAE: 27110.34 R^2: 0.804\n",
      "\n",
      "Training Fold 4/5...\n",
      "  Fold 4 Validation - RMSE: 57953.80, MAE: 47162.36 R^2: 0.444\n",
      "\n",
      "Training Fold 5/5...\n",
      "  Fold 5 Validation - RMSE: 86583.90, MAE: 61382.30 R^2: -0.165\n",
      "\n",
      "Cross-validation complete. Mean R^2: -0.141 (+/- 1.118)\n",
      "\n",
      "Training final model on all training data...\n",
      "\n",
      "Evaluating on test set...\n",
      "==================================================\n",
      "\n",
      "  Mean R^2: -0.141 (+/- 1.118)\n",
      "\n",
      "Cross-Validation Performance:\n",
      "  R^2: 0.792\n",
      "  RMSE: 34475.59\n",
      "  MAE: 25393.71\n",
      "Test Set Performance:\n",
      "==================================================\n",
      "FINAL RESULTS for run_12_more_hidden_units:\n",
      "\n",
      "==================================================\n",
      "🏃 View run run_12_more_hidden_units at: http://localhost:5000/#/experiments/2/runs/876e586388274d14b71253adac76e1dd\n",
      "🧪 View experiment at: http://localhost:5000/#/experiments/2\n",
      "Training samples: 1312\n",
      "Input features: 181\n",
      "Starting 5-fold cross-validation for run_13_more_epochs...\n",
      "\n",
      "Training Fold 1/5...\n",
      "  Fold 1 Validation - RMSE: 33283.65, MAE: 25012.69 R^2: 0.820\n",
      "\n",
      "Training Fold 2/5...\n",
      "  Fold 2 Validation - RMSE: 25011.79, MAE: 17711.73 R^2: 0.894\n",
      "\n",
      "Training Fold 3/5...\n",
      "  Fold 3 Validation - RMSE: 20343.75, MAE: 14570.89 R^2: 0.942\n",
      "\n",
      "Training Fold 4/5...\n",
      "  Fold 4 Validation - RMSE: 29518.45, MAE: 21744.53 R^2: 0.856\n",
      "\n",
      "Training Fold 5/5...\n",
      "  Fold 5 Validation - RMSE: 25804.57, MAE: 16859.13 R^2: 0.896\n",
      "\n",
      "Cross-validation complete. Mean R^2: 0.882 (+/- 0.041)\n",
      "\n",
      "Training final model on all training data...\n",
      "\n",
      "Evaluating on test set...\n",
      "==================================================\n",
      "\n",
      "  Mean R^2: 0.882 (+/- 0.041)\n",
      "\n",
      "Cross-Validation Performance:\n",
      "  R^2: 0.912\n",
      "  RMSE: 22473.31\n",
      "  MAE: 15030.90\n",
      "Test Set Performance:\n",
      "==================================================\n",
      "FINAL RESULTS for run_13_more_epochs:\n",
      "\n",
      "==================================================\n",
      "🏃 View run run_13_more_epochs at: http://localhost:5000/#/experiments/2/runs/64024f9beca24426bd6f4d876479958c\n",
      "🧪 View experiment at: http://localhost:5000/#/experiments/2\n"
     ]
    }
   ],
   "source": [
    "# let's try another 3 runs\n",
    "# we will use the same base config for all runs\n",
    "\n",
    "configs = [\n",
    "     {\n",
    "        \"name\": \"run_11_higher_learning_rate\",\n",
    "        \"hidden_units\": 64,\n",
    "        \"dropout\": 0.2,\n",
    "        \"learning_rate\": 0.01,\n",
    "        \"epochs\": 150,\n",
    "        \"batch_size\": 64,   \n",
    "     },\n",
    "     {\n",
    "        \"name\": \"run_12_more_hidden_units\",\n",
    "        \"hidden_units\": 256,\n",
    "        \"dropout\": 0.2,\n",
    "        \"learning_rate\": 0.01,\n",
    "        \"epochs\": 150,\n",
    "        \"batch_size\": 32,   \n",
    "     },\n",
    "          {\n",
    "        \"name\": \"run_13_more_epochs\",\n",
    "        \"hidden_units\": 64,\n",
    "        \"dropout\": 0.2,\n",
    "        \"learning_rate\": 0.01,\n",
    "        \"epochs\": 200,\n",
    "        \"batch_size\": 32,   \n",
    "     },\n",
    "]\n",
    "\n",
    "for config in configs:\n",
    "    # in python we can in elegant way merge two dicts using \"|\" operator - finally...\n",
    "    # old merging method {**base_config, **config} - ugly :(\n",
    "    training_config = base_config | config\n",
    "\n",
    "    trainer = PyTorchTrainer(training_config[\"model_class\"], training_config)\n",
    "    results = trainer.fit(X_train, y_train_log, X_test, y_test)"
   ]
  },
  {
   "cell_type": "markdown",
   "id": "e13edf61",
   "metadata": {},
   "source": [
    "Impact of chages:\n",
    "- hidden units: less is betters, it looks that less hidden units better generalizes the model\n",
    "- learning rate: 0.03 looks optimal\n",
    "- dropout rate: higher is better, the best results are 0.2-0.3\n",
    "- batch size: 32 looks optimal, both higher and lower gave worse results\n",
    "- number of epochs: increasing doesn't have much influence, lowering to small number (e.g. 50) drastically decreases performance"
   ]
  },
  {
   "cell_type": "markdown",
   "id": "6d35fa51",
   "metadata": {},
   "source": [
    "4. Compare the results of our first scikit-learn configuration with the first PyTorch experiments. Do you see any overfitting in the first PyTorch experiment? Explain what signs of overfitting can indicate this situation.\n",
    "\n",
    "\n"
   ]
  }
 ],
 "metadata": {
  "kernelspec": {
   "display_name": ".venv",
   "language": "python",
   "name": "python3"
  },
  "language_info": {
   "codemirror_mode": {
    "name": "ipython",
    "version": 3
   },
   "file_extension": ".py",
   "mimetype": "text/x-python",
   "name": "python",
   "nbconvert_exporter": "python",
   "pygments_lexer": "ipython3",
   "version": "3.11.12"
  }
 },
 "nbformat": 4,
 "nbformat_minor": 5
}
